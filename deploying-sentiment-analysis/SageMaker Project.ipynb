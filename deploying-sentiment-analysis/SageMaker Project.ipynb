{
 "cells": [
  {
   "cell_type": "markdown",
   "metadata": {},
   "source": [
    "# Creating a Sentiment Analysis Web App\n",
    "## Using PyTorch and SageMaker\n",
    "\n",
    "_Deep Learning Nanodegree Program | Deployment_\n",
    "\n",
    "---\n",
    "\n",
    "Now that we have a basic understanding of how SageMaker works we will try to use it to construct a complete project from end to end. Our goal will be to have a simple web page which a user can use to enter a movie review. The web page will then send the review off to our deployed model which will predict the sentiment of the entered review.\n",
    "\n",
    "## Instructions\n",
    "\n",
    "Some template code has already been provided for you, and you will need to implement additional functionality to successfully complete this notebook. You will not need to modify the included code beyond what is requested. Sections that begin with '**TODO**' in the header indicate that you need to complete or implement some portion within them. Instructions will be provided for each section and the specifics of the implementation are marked in the code block with a `# TODO: ...` comment. Please be sure to read the instructions carefully!\n",
    "\n",
    "In addition to implementing code, there will be questions for you to answer which relate to the task and your implementation. Each section where you will answer a question is preceded by a '**Question:**' header. Carefully read each question and provide your answer below the '**Answer:**' header by editing the Markdown cell.\n",
    "\n",
    "> **Note**: Code and Markdown cells can be executed using the **Shift+Enter** keyboard shortcut. In addition, a cell can be edited by typically clicking it (double-click for Markdown cells) or by pressing **Enter** while it is highlighted.\n",
    "\n",
    "## General Outline\n",
    "\n",
    "Recall the general outline for SageMaker projects using a notebook instance.\n",
    "\n",
    "1. Download or otherwise retrieve the data.\n",
    "2. Process / Prepare the data.\n",
    "3. Upload the processed data to S3.\n",
    "4. Train a chosen model.\n",
    "5. Test the trained model (typically using a batch transform job).\n",
    "6. Deploy the trained model.\n",
    "7. Use the deployed model.\n",
    "\n",
    "For this project, you will be following the steps in the general outline with some modifications. \n",
    "\n",
    "First, you will not be testing the model in its own step. You will still be testing the model, however, you will do it by deploying your model and then using the deployed model by sending the test data to it. One of the reasons for doing this is so that you can make sure that your deployed model is working correctly before moving forward.\n",
    "\n",
    "In addition, you will deploy and use your trained model a second time. In the second iteration you will customize the way that your trained model is deployed by including some of your own code. In addition, your newly deployed model will be used in the sentiment analysis web app."
   ]
  },
  {
   "cell_type": "markdown",
   "metadata": {},
   "source": [
    "## Step 1: Downloading the data\n",
    "\n",
    "As in the XGBoost in SageMaker notebook, we will be using the [IMDb dataset](http://ai.stanford.edu/~amaas/data/sentiment/)\n",
    "\n",
    "> Maas, Andrew L., et al. [Learning Word Vectors for Sentiment Analysis](http://ai.stanford.edu/~amaas/data/sentiment/). In _Proceedings of the 49th Annual Meeting of the Association for Computational Linguistics: Human Language Technologies_. Association for Computational Linguistics, 2011."
   ]
  },
  {
   "cell_type": "code",
   "execution_count": 1,
   "metadata": {},
   "outputs": [
    {
     "name": "stdout",
     "output_type": "stream",
     "text": [
      "mkdir: cannot create directory ‘../data’: File exists\n",
      "--2020-01-03 18:37:24--  http://ai.stanford.edu/~amaas/data/sentiment/aclImdb_v1.tar.gz\n",
      "Resolving ai.stanford.edu (ai.stanford.edu)... 171.64.68.10\n",
      "Connecting to ai.stanford.edu (ai.stanford.edu)|171.64.68.10|:80... connected.\n",
      "HTTP request sent, awaiting response... 200 OK\n",
      "Length: 84125825 (80M) [application/x-gzip]\n",
      "Saving to: ‘../data/aclImdb_v1.tar.gz’\n",
      "\n",
      "../data/aclImdb_v1. 100%[===================>]  80.23M  24.4MB/s    in 3.7s    \n",
      "\n",
      "2020-01-03 18:37:28 (21.5 MB/s) - ‘../data/aclImdb_v1.tar.gz’ saved [84125825/84125825]\n",
      "\n"
     ]
    }
   ],
   "source": [
    "%mkdir ../data\n",
    "!wget -O ../data/aclImdb_v1.tar.gz http://ai.stanford.edu/~amaas/data/sentiment/aclImdb_v1.tar.gz\n",
    "!tar -zxf ../data/aclImdb_v1.tar.gz -C ../data"
   ]
  },
  {
   "cell_type": "markdown",
   "metadata": {},
   "source": [
    "## Step 2: Preparing and Processing the data\n",
    "\n",
    "Also, as in the XGBoost notebook, we will be doing some initial data processing. The first few steps are the same as in the XGBoost example. To begin with, we will read in each of the reviews and combine them into a single input structure. Then, we will split the dataset into a training set and a testing set."
   ]
  },
  {
   "cell_type": "code",
   "execution_count": 2,
   "metadata": {},
   "outputs": [],
   "source": [
    "import os\n",
    "import glob\n",
    "\n",
    "def read_imdb_data(data_dir='../data/aclImdb'):\n",
    "    data = {}\n",
    "    labels = {}\n",
    "    \n",
    "    for data_type in ['train', 'test']:\n",
    "        data[data_type] = {}\n",
    "        labels[data_type] = {}\n",
    "        \n",
    "        for sentiment in ['pos', 'neg']:\n",
    "            data[data_type][sentiment] = []\n",
    "            labels[data_type][sentiment] = []\n",
    "            \n",
    "            path = os.path.join(data_dir, data_type, sentiment, '*.txt')\n",
    "            files = glob.glob(path)\n",
    "            \n",
    "            for f in files:\n",
    "                with open(f) as review:\n",
    "                    data[data_type][sentiment].append(review.read())\n",
    "                    # Here we represent a positive review by '1' and a negative review by '0'\n",
    "                    labels[data_type][sentiment].append(1 if sentiment == 'pos' else 0)\n",
    "                    \n",
    "            assert len(data[data_type][sentiment]) == len(labels[data_type][sentiment]), \\\n",
    "                    \"{}/{} data size does not match labels size\".format(data_type, sentiment)\n",
    "                \n",
    "    return data, labels"
   ]
  },
  {
   "cell_type": "code",
   "execution_count": 3,
   "metadata": {},
   "outputs": [
    {
     "name": "stdout",
     "output_type": "stream",
     "text": [
      "IMDB reviews: train = 12500 pos / 12500 neg, test = 12500 pos / 12500 neg\n"
     ]
    }
   ],
   "source": [
    "data, labels = read_imdb_data()\n",
    "print(\"IMDB reviews: train = {} pos / {} neg, test = {} pos / {} neg\".format(\n",
    "            len(data['train']['pos']), len(data['train']['neg']),\n",
    "            len(data['test']['pos']), len(data['test']['neg'])))"
   ]
  },
  {
   "cell_type": "markdown",
   "metadata": {},
   "source": [
    "Now that we've read the raw training and testing data from the downloaded dataset, we will combine the positive and negative reviews and shuffle the resulting records."
   ]
  },
  {
   "cell_type": "code",
   "execution_count": 4,
   "metadata": {},
   "outputs": [],
   "source": [
    "from sklearn.utils import shuffle\n",
    "\n",
    "def prepare_imdb_data(data, labels):\n",
    "    \"\"\"Prepare training and test sets from IMDb movie reviews.\"\"\"\n",
    "    \n",
    "    #Combine positive and negative reviews and labels\n",
    "    data_train = data['train']['pos'] + data['train']['neg']\n",
    "    data_test = data['test']['pos'] + data['test']['neg']\n",
    "    labels_train = labels['train']['pos'] + labels['train']['neg']\n",
    "    labels_test = labels['test']['pos'] + labels['test']['neg']\n",
    "    \n",
    "    #Shuffle reviews and corresponding labels within training and test sets\n",
    "    data_train, labels_train = shuffle(data_train, labels_train)\n",
    "    data_test, labels_test = shuffle(data_test, labels_test)\n",
    "    \n",
    "    # Return a unified training data, test data, training labels, test labets\n",
    "    return data_train, data_test, labels_train, labels_test"
   ]
  },
  {
   "cell_type": "code",
   "execution_count": 5,
   "metadata": {},
   "outputs": [
    {
     "name": "stdout",
     "output_type": "stream",
     "text": [
      "IMDb reviews (combined): train = 25000, test = 25000\n"
     ]
    }
   ],
   "source": [
    "train_X, test_X, train_y, test_y = prepare_imdb_data(data, labels)\n",
    "print(\"IMDb reviews (combined): train = {}, test = {}\".format(len(train_X), len(test_X)))"
   ]
  },
  {
   "cell_type": "markdown",
   "metadata": {},
   "source": [
    "Now that we have our training and testing sets unified and prepared, we should do a quick check and see an example of the data our model will be trained on. This is generally a good idea as it allows you to see how each of the further processing steps affects the reviews and it also ensures that the data has been loaded correctly."
   ]
  },
  {
   "cell_type": "code",
   "execution_count": 6,
   "metadata": {},
   "outputs": [
    {
     "name": "stdout",
     "output_type": "stream",
     "text": [
      "Wow! So much fun! Probably a bit much for normal American kids, and really it's a stretch to call this a kid's film, this movie reminded me a quite a bit of Time Bandits - very Terry Gilliam all the way through. While the overall narrative is pretty much straight forward, Miike still throws in A LOT of surreal and Bunuel-esquire moments. The whole first act violently juxtaposes from scene to scene the normal family life of the main kid/hero, with the spirit world and the evil than is ensuing therein. And while the ending does have a bit of an ambiguous aspect that are common of Miike's work, the layers of meaning and metaphor, particularly the anti-war / anti-revenge message of human folly, is pretty damn poignant. As manic and imaginatively fun as other great Miike films, only instead of over the top torture and gore, he gives us an endless amount of monsters and yokai from Japanese folk-lore creatively conceived via CG and puppetry wrapped into an imaginative multi-faceted adventure. F'n rad, and one of Miike's best!\n",
      "1\n"
     ]
    }
   ],
   "source": [
    "print(train_X[100])\n",
    "print(train_y[100])"
   ]
  },
  {
   "cell_type": "markdown",
   "metadata": {},
   "source": [
    "The first step in processing the reviews is to make sure that any html tags that appear should be removed. In addition we wish to tokenize our input, that way words such as *entertained* and *entertaining* are considered the same with regard to sentiment analysis."
   ]
  },
  {
   "cell_type": "code",
   "execution_count": 7,
   "metadata": {},
   "outputs": [],
   "source": [
    "import nltk\n",
    "from nltk.corpus import stopwords\n",
    "from nltk.stem.porter import *\n",
    "\n",
    "import re\n",
    "from bs4 import BeautifulSoup\n",
    "\n",
    "def review_to_words(review):\n",
    "    nltk.download(\"stopwords\", quiet=True)\n",
    "    stemmer = PorterStemmer()\n",
    "    \n",
    "    text = BeautifulSoup(review, \"html.parser\").get_text() # Remove HTML tags\n",
    "    text = re.sub(r\"[^a-zA-Z0-9]\", \" \", text.lower()) # Convert to lower case\n",
    "    words = text.split() # Split string into words\n",
    "    words = [w for w in words if w not in stopwords.words(\"english\")] # Remove stopwords\n",
    "    words = [PorterStemmer().stem(w) for w in words] # stem\n",
    "    \n",
    "    return words"
   ]
  },
  {
   "cell_type": "markdown",
   "metadata": {},
   "source": [
    "The `review_to_words` method defined above uses `BeautifulSoup` to remove any html tags that appear and uses the `nltk` package to tokenize the reviews. As a check to ensure we know how everything is working, try applying `review_to_words` to one of the reviews in the training set."
   ]
  },
  {
   "cell_type": "code",
   "execution_count": 8,
   "metadata": {},
   "outputs": [
    {
     "name": "stdout",
     "output_type": "stream",
     "text": [
      "Wow! So much fun! Probably a bit much for normal American kids, and really it's a stretch to call this a kid's film, this movie reminded me a quite a bit of Time Bandits - very Terry Gilliam all the way through. While the overall narrative is pretty much straight forward, Miike still throws in A LOT of surreal and Bunuel-esquire moments. The whole first act violently juxtaposes from scene to scene the normal family life of the main kid/hero, with the spirit world and the evil than is ensuing therein. And while the ending does have a bit of an ambiguous aspect that are common of Miike's work, the layers of meaning and metaphor, particularly the anti-war / anti-revenge message of human folly, is pretty damn poignant. As manic and imaginatively fun as other great Miike films, only instead of over the top torture and gore, he gives us an endless amount of monsters and yokai from Japanese folk-lore creatively conceived via CG and puppetry wrapped into an imaginative multi-faceted adventure. F'n rad, and one of Miike's best!\n"
     ]
    }
   ],
   "source": [
    "print(train_X[100])"
   ]
  },
  {
   "cell_type": "code",
   "execution_count": 9,
   "metadata": {},
   "outputs": [
    {
     "name": "stdout",
     "output_type": "stream",
     "text": [
      "['wow', 'much', 'fun', 'probabl', 'bit', 'much', 'normal', 'american', 'kid', 'realli', 'stretch', 'call', 'kid', 'film', 'movi', 'remind', 'quit', 'bit', 'time', 'bandit', 'terri', 'gilliam', 'way', 'overal', 'narr', 'pretti', 'much', 'straight', 'forward', 'miik', 'still', 'throw', 'lot', 'surreal', 'bunuel', 'esquir', 'moment', 'whole', 'first', 'act', 'violent', 'juxtapos', 'scene', 'scene', 'normal', 'famili', 'life', 'main', 'kid', 'hero', 'spirit', 'world', 'evil', 'ensu', 'therein', 'end', 'bit', 'ambigu', 'aspect', 'common', 'miik', 'work', 'layer', 'mean', 'metaphor', 'particularli', 'anti', 'war', 'anti', 'reveng', 'messag', 'human', 'folli', 'pretti', 'damn', 'poignant', 'manic', 'imagin', 'fun', 'great', 'miik', 'film', 'instead', 'top', 'tortur', 'gore', 'give', 'us', 'endless', 'amount', 'monster', 'yokai', 'japanes', 'folk', 'lore', 'creativ', 'conceiv', 'via', 'cg', 'puppetri', 'wrap', 'imagin', 'multi', 'facet', 'adventur', 'f', 'n', 'rad', 'one', 'miik', 'best']\n"
     ]
    }
   ],
   "source": [
    "# TODO: Apply review_to_words to a review (train_X[100] or any other review)\n",
    "print(review_to_words(train_X[100]))"
   ]
  },
  {
   "cell_type": "markdown",
   "metadata": {},
   "source": [
    "**Question:** Above we mentioned that `review_to_words` method removes html formatting and allows us to tokenize the words found in a review, for example, converting *entertained* and *entertaining* into *entertain* so that they are treated as though they are the same word. What else, if anything, does this method do to the input?"
   ]
  },
  {
   "cell_type": "markdown",
   "metadata": {},
   "source": [
    "**Answer:**\n",
    "Apart from the given tasks, `review_to_words` does the following:\n",
    "- Gets rid of stopwords such as 'a','an','the', etc\n",
    "- Gets rid of characters which are not alphabets or numericals, for example punctuations\n",
    "- Ensures all the alphabets are in lower case"
   ]
  },
  {
   "cell_type": "markdown",
   "metadata": {},
   "source": [
    "The method below applies the `review_to_words` method to each of the reviews in the training and testing datasets. In addition it caches the results. This is because performing this processing step can take a long time. This way if you are unable to complete the notebook in the current session, you can come back without needing to process the data a second time."
   ]
  },
  {
   "cell_type": "code",
   "execution_count": 10,
   "metadata": {},
   "outputs": [],
   "source": [
    "import pickle\n",
    "\n",
    "cache_dir = os.path.join(\"../cache\", \"sentiment_analysis\")  # where to store cache files\n",
    "os.makedirs(cache_dir, exist_ok=True)  # ensure cache directory exists\n",
    "\n",
    "def preprocess_data(data_train, data_test, labels_train, labels_test,\n",
    "                    cache_dir=cache_dir, cache_file=\"preprocessed_data.pkl\"):\n",
    "    \"\"\"Convert each review to words; read from cache if available.\"\"\"\n",
    "\n",
    "    # If cache_file is not None, try to read from it first\n",
    "    cache_data = None\n",
    "    if cache_file is not None:\n",
    "        try:\n",
    "            with open(os.path.join(cache_dir, cache_file), \"rb\") as f:\n",
    "                cache_data = pickle.load(f)\n",
    "            print(\"Read preprocessed data from cache file:\", cache_file)\n",
    "        except:\n",
    "            pass  # unable to read from cache, but that's okay\n",
    "    \n",
    "    # If cache is missing, then do the heavy lifting\n",
    "    if cache_data is None:\n",
    "        # Preprocess training and test data to obtain words for each review\n",
    "        #words_train = list(map(review_to_words, data_train))\n",
    "        #words_test = list(map(review_to_words, data_test))\n",
    "        words_train = [review_to_words(review) for review in data_train]\n",
    "        words_test = [review_to_words(review) for review in data_test]\n",
    "        \n",
    "        # Write to cache file for future runs\n",
    "        if cache_file is not None:\n",
    "            cache_data = dict(words_train=words_train, words_test=words_test,\n",
    "                              labels_train=labels_train, labels_test=labels_test)\n",
    "            with open(os.path.join(cache_dir, cache_file), \"wb\") as f:\n",
    "                pickle.dump(cache_data, f)\n",
    "            print(\"Wrote preprocessed data to cache file:\", cache_file)\n",
    "    else:\n",
    "        # Unpack data loaded from cache file\n",
    "        words_train, words_test, labels_train, labels_test = (cache_data['words_train'],\n",
    "                cache_data['words_test'], cache_data['labels_train'], cache_data['labels_test'])\n",
    "    \n",
    "    return words_train, words_test, labels_train, labels_test"
   ]
  },
  {
   "cell_type": "code",
   "execution_count": 11,
   "metadata": {},
   "outputs": [
    {
     "name": "stdout",
     "output_type": "stream",
     "text": [
      "Read preprocessed data from cache file: preprocessed_data.pkl\n"
     ]
    }
   ],
   "source": [
    "# Preprocess data\n",
    "train_X, test_X, train_y, test_y = preprocess_data(train_X, test_X, train_y, test_y)"
   ]
  },
  {
   "cell_type": "code",
   "execution_count": 12,
   "metadata": {},
   "outputs": [],
   "source": [
    "# Preprocess data\n",
    "#train_X, test_X, train_y, test_y = preprocess_data(train_X, test_X, train_y, test_y)"
   ]
  },
  {
   "cell_type": "markdown",
   "metadata": {},
   "source": [
    "## Transform the data\n",
    "\n",
    "In the XGBoost notebook we transformed the data from its word representation to a bag-of-words feature representation. For the model we are going to construct in this notebook we will construct a feature representation which is very similar. To start, we will represent each word as an integer. Of course, some of the words that appear in the reviews occur very infrequently and so likely don't contain much information for the purposes of sentiment analysis. The way we will deal with this problem is that we will fix the size of our working vocabulary and we will only include the words that appear most frequently. We will then combine all of the infrequent words into a single category and, in our case, we will label it as `1`.\n",
    "\n",
    "Since we will be using a recurrent neural network, it will be convenient if the length of each review is the same. To do this, we will fix a size for our reviews and then pad short reviews with the category 'no word' (which we will label `0`) and truncate long reviews."
   ]
  },
  {
   "cell_type": "markdown",
   "metadata": {},
   "source": [
    "### (TODO) Create a word dictionary\n",
    "\n",
    "To begin with, we need to construct a way to map words that appear in the reviews to integers. Here we fix the size of our vocabulary (including the 'no word' and 'infrequent' categories) to be `5000` but you may wish to change this to see how it affects the model.\n",
    "\n",
    "> **TODO:** Complete the implementation for the `build_dict()` method below. Note that even though the vocab_size is set to `5000`, we only want to construct a mapping for the most frequently appearing `4998` words. This is because we want to reserve the special labels `0` for 'no word' and `1` for 'infrequent word'."
   ]
  },
  {
   "cell_type": "code",
   "execution_count": 13,
   "metadata": {},
   "outputs": [],
   "source": [
    "import numpy as np\n",
    "\n",
    "def build_dict(data, vocab_size = 5000):\n",
    "    \"\"\"Construct and return a dictionary mapping each of the most frequently appearing words to a unique integer.\"\"\"\n",
    "    \n",
    "    # TODO: Determine how often each word appears in `data`. Note that `data` is a list of sentences and that a\n",
    "    #       sentence is a list of words.\n",
    "    \n",
    "    word_count = {} # A dict storing the words that appear in the reviews along with how often they occur\n",
    "    for review in data:\n",
    "        for word in review:\n",
    "            word_count[word] = word_count[word] + 1 if word in word_count else 1\n",
    "            \n",
    "    # TODO: Sort the words found in `data` so that sorted_words[0] is the most frequently appearing word and\n",
    "    #       sorted_words[-1] is the least frequently appearing word.\n",
    "    \n",
    "    words_sorted = sorted(word_count.items(), key=(lambda item: item[1]), reverse=True)\n",
    "    sorted_words = [item[0] for item in words_sorted]\n",
    "    \n",
    "    word_dict = {} # This is what we are building, a dictionary that translates words into integers\n",
    "    for idx, word in enumerate(sorted_words[:vocab_size - 2]): # The -2 is so that we save room for the 'no word'\n",
    "        word_dict[word] = idx + 2                              # 'infrequent' labels\n",
    "        \n",
    "    return word_dict"
   ]
  },
  {
   "cell_type": "code",
   "execution_count": 14,
   "metadata": {},
   "outputs": [],
   "source": [
    "word_dict = build_dict(train_X)"
   ]
  },
  {
   "cell_type": "code",
   "execution_count": 15,
   "metadata": {},
   "outputs": [
    {
     "data": {
      "text/plain": [
       "dict_keys(['movi', 'film', 'one', 'like', 'time', 'good', 'make', 'charact', 'get', 'see', 'watch', 'stori', 'even', 'would', 'realli', 'well', 'scene', 'look', 'show', 'much', 'end', 'peopl', 'bad', 'go', 'great', 'also', 'first', 'love', 'think', 'way', 'act', 'play', 'made', 'thing', 'could', 'know', 'say', 'seem', 'work', 'plot', 'two', 'actor', 'year', 'come', 'mani', 'seen', 'take', 'want', 'life', 'never', 'littl', 'best', 'tri', 'man', 'ever', 'give', 'better', 'still', 'perform', 'find', 'feel', 'part', 'back', 'use', 'someth', 'director', 'actual', 'interest', 'lot', 'real', 'old', 'cast', 'though', 'live', 'star', 'enjoy', 'guy', 'anoth', 'new', 'role', 'noth', '10', 'funni', 'music', 'point', 'start', 'set', 'girl', 'origin', 'day', 'world', 'everi', 'believ', 'turn', 'quit', 'us', 'direct', 'thought', 'fact', 'minut', 'horror', 'kill', 'action', 'comedi', 'pretti', 'young', 'wonder', 'happen', 'around', 'got', 'effect', 'right', 'long', 'howev', 'big', 'line', 'famili', 'enough', 'seri', 'may', 'need', 'fan', 'bit', 'script', 'beauti', 'person', 'becom', 'without', 'must', 'alway', 'friend', 'tell', 'reason', 'saw', 'last', 'final', 'kid', 'almost', 'put', 'least', 'sure', 'done', 'whole', 'place', 'complet', 'kind', 'expect', 'differ', 'shot', 'far', 'mean', 'anyth', 'book', 'laugh', 'might', 'name', 'sinc', 'begin', '2', 'probabl', 'woman', 'help', 'entertain', 'let', 'screen', 'call', 'tv', 'moment', 'away', 'read', 'yet', 'rather', 'worst', 'run', 'fun', 'lead', 'hard', 'audienc', 'idea', 'anyon', 'episod', 'american', 'found', 'appear', 'bore', 'especi', 'although', 'hope', 'cours', 'keep', 'anim', 'job', 'goe', 'move', 'sens', 'version', 'dvd', 'war', 'money', 'someon', 'mind', 'mayb', 'problem', 'true', 'hous', 'everyth', 'nice', 'second', 'rate', 'three', 'night', 'face', 'follow', 'recommend', 'product', 'main', 'worth', 'leav', 'human', 'special', 'excel', 'togeth', 'wast', 'sound', 'everyon', 'john', 'hand', '1', 'father', 'later', 'eye', 'said', 'view', 'instead', 'review', 'boy', 'high', 'hour', 'miss', 'classic', 'talk', 'wife', 'understand', 'left', 'care', 'black', 'death', 'open', 'murder', 'write', 'half', 'head', 'rememb', 'chang', 'viewer', 'fight', 'gener', 'surpris', 'short', 'includ', 'die', 'fall', 'less', 'els', 'entir', 'piec', 'involv', 'pictur', 'simpli', 'top', 'power', 'home', 'total', 'usual', 'budget', 'attempt', 'suppos', 'releas', 'hollywood', 'terribl', 'song', 'men', 'possibl', 'featur', 'portray', 'disappoint', 'poor', '3', 'coupl', 'stupid', 'camera', 'dead', 'wrong', 'low', 'produc', 'video', 'either', 'aw', 'definit', 'except', 'rest', 'given', 'absolut', 'women', 'lack', 'word', 'writer', 'titl', 'talent', 'decid', 'full', 'perfect', 'along', 'style', 'close', 'truli', 'school', 'emot', 'save', 'sex', 'age', 'next', 'bring', 'mr', 'case', 'killer', 'heart', 'comment', 'sort', 'creat', 'perhap', 'came', 'brother', 'sever', 'joke', 'art', 'dialogu', 'game', 'small', 'base', 'flick', 'written', 'sequenc', 'meet', 'earli', 'often', 'other', 'mother', 'develop', 'humor', 'actress', 'consid', 'dark', 'guess', 'amaz', 'unfortun', 'light', 'lost', 'exampl', 'cinema', 'drama', 'ye', 'white', 'experi', 'imagin', 'mention', 'stop', 'natur', 'forc', 'manag', 'felt', 'present', 'cut', 'children', 'fail', 'son', 'support', 'car', 'qualiti', 'ask', 'hit', 'side', 'voic', 'extrem', 'impress', 'evil', 'wors', 'went', 'stand', 'certainli', 'basic', 'oh', 'overal', 'favorit', 'horribl', 'mysteri', 'number', 'type', 'danc', 'wait', 'hero', 'alreadi', '5', 'learn', 'matter', '4', 'michael', 'genr', 'fine', 'despit', 'throughout', 'walk', 'success', 'histori', 'question', 'zombi', 'town', 'relationship', 'realiz', 'child', 'past', 'daughter', 'late', 'b', 'wish', 'credit', 'hate', 'event', 'theme', 'touch', 'citi', 'today', 'sometim', 'behind', 'god', 'twist', 'sit', 'deal', 'annoy', 'stay', 'abl', 'rent', 'pleas', 'edit', 'blood', 'deserv', 'anyway', 'comic', 'appar', 'soon', 'gave', 'etc', 'level', 'slow', 'chanc', 'score', 'bodi', 'brilliant', 'incred', 'figur', 'situat', 'major', 'self', 'stuff', 'decent', 'element', 'return', 'dream', 'obvious', 'continu', 'order', 'pace', 'ridicul', 'happi', 'highli', 'add', 'group', 'thank', 'ladi', 'novel', 'pain', 'speak', 'career', 'shoot', 'strang', 'heard', 'sad', 'polic', 'husband', 'import', 'break', 'took', 'strong', 'cannot', 'robert', 'predict', 'violenc', 'hilari', 'recent', 'countri', 'known', 'particularli', 'pick', 'documentari', 'season', 'critic', 'jame', 'compar', 'obviou', 'alon', 'told', 'state', 'visual', 'rock', 'exist', 'offer', 'theater', 'opinion', 'gore', 'hold', 'crap', 'result', 'room', 'hear', 'realiti', 'effort', 'clich', 'thriller', 'caus', 'serious', 'explain', 'sequel', 'king', 'local', 'ago', 'none', 'hell', 'note', 'allow', 'sister', 'david', 'simpl', 'femal', 'deliv', 'ok', 'convinc', 'class', 'check', 'suspens', 'win', 'buy', 'oscar', 'huge', 'valu', 'sexual', 'cool', 'scari', 'similar', 'excit', 'provid', 'exactli', 'apart', 'shown', 'avoid', 'seriou', 'english', 'taken', 'whose', 'cinematographi', 'shock', 'polit', 'spoiler', 'offic', 'across', 'middl', 'pass', 'street', 'messag', 'somewhat', 'silli', 'charm', 'modern', 'filmmak', 'confus', 'form', 'tale', 'singl', 'jack', 'mostli', 'carri', 'attent', 'william', 'sing', 'five', 'subject', 'richard', 'prove', 'stage', 'team', 'unlik', 'cop', 'georg', 'televis', 'monster', 'earth', 'cover', 'villain', 'pay', 'marri', 'toward', 'build', 'parent', 'pull', 'due', 'fill', 'respect', 'four', 'dialog', 'remind', 'futur', 'weak', 'typic', '7', 'cheap', 'intellig', 'atmospher', 'british', '80', 'clearli', 'paul', 'dog', 'non', 'fast', 'knew', 'artist', '8', 'crime', 'easili', 'escap', 'doubt', 'adult', 'detail', 'date', 'romant', 'member', 'fire', 'gun', 'drive', 'straight', 'fit', 'beyond', 'attack', 'imag', 'upon', 'posit', 'whether', 'fantast', 'peter', 'captur', 'appreci', 'aspect', 'ten', 'plan', 'discov', 'remain', 'near', 'period', 'realist', 'air', 'mark', 'red', 'dull', 'adapt', 'within', 'lose', 'spend', 'color', 'materi', 'chase', 'mari', 'storylin', 'forget', 'bunch', 'clear', 'lee', 'victim', 'nearli', 'box', 'york', 'match', 'inspir', 'finish', 'mess', 'standard', 'easi', 'truth', 'busi', 'suffer', 'bill', 'dramat', 'space', 'western', 'e', 'list', 'battl', 'notic', 'de', 'french', 'ad', '9', 'tom', 'larg', 'among', 'eventu', 'accept', 'train', 'agre', 'spirit', 'soundtrack', 'third', 'teenag', 'adventur', 'soldier', 'famou', 'suggest', 'sorri', 'drug', 'babi', 'normal', 'cri', 'troubl', 'ultim', 'contain', 'certain', 'cultur', 'romanc', 'rare', 'lame', 'somehow', 'disney', 'mix', 'gone', 'cartoon', 'student', 'reveal', 'fear', 'kept', 'suck', 'attract', 'appeal', 'premis', 'design', 'greatest', 'secret', 'shame', 'throw', 'copi', 'scare', 'wit', 'admit', 'america', 'relat', 'particular', 'brought', 'screenplay', 'whatev', 'pure', '70', 'averag', 'harri', 'master', 'describ', 'male', 'treat', '20', 'issu', 'fantasi', 'warn', 'inde', 'background', 'forward', 'free', 'project', 'memor', 'japanes', 'poorli', 'award', 'locat', 'amus', 'potenti', 'struggl', 'magic', 'weird', 'societi', 'okay', 'imdb', 'accent', 'doctor', 'hot', 'water', 'express', 'dr', '30', 'alien', 'odd', 'choic', 'crazi', 'studio', 'fiction', 'becam', 'control', 'masterpiec', 'fli', 'difficult', 'joe', 'scream', 'costum', 'lover', 'uniqu', 'refer', 'remak', 'girlfriend', 'vampir', 'prison', 'execut', 'wear', 'jump', 'wood', 'unless', 'creepi', 'cheesi', 'superb', 'otherwis', 'parti', 'roll', 'ghost', 'public', 'mad', 'depict', 'earlier', 'week', 'badli', 'jane', 'moral', 'fi', 'dumb', 'grow', 'flaw', 'deep', 'sci', 'cat', 'maker', 'footag', 'older', 'connect', 'plenti', 'bother', 'outsid', 'stick', 'gay', 'catch', 'co', 'plu', 'popular', 'equal', 'social', 'disturb', 'quickli', 'perfectli', 'dress', '90', 'era', 'mistak', 'lie', 'previou', 'ride', 'combin', 'concept', 'band', 'surviv', 'rich', 'answer', 'front', 'sweet', 'christma', 'insid', 'bare', 'eat', 'concern', 'ben', 'beat', 'listen', 'c', 'term', 'serv', 'meant', 'la', 'german', 'hardli', 'stereotyp', 'innoc', 'law', 'desper', 'memori', 'promis', 'intent', 'cute', 'inform', 'variou', 'steal', 'brain', 'post', 'tone', 'island', 'amount', 'nuditi', 'track', 'compani', 'store', 'claim', 'hair', 'flat', '50', 'land', 'univers', 'kick', 'fairli', 'scott', 'danger', 'player', 'crew', 'plain', 'step', 'toni', 'share', 'tast', 'centuri', 'achiev', 'engag', 'travel', 'cold', 'rip', 'record', 'suit', 'sadli', 'manner', 'spot', 'tension', 'wrote', 'fascin', 'intens', 'familiar', 'depth', 'remark', 'burn', 'histor', 'destroy', 'sleep', 'purpos', 'languag', 'ignor', 'ruin', 'delight', 'unbeliev', 'italian', 'collect', 'soul', 'abil', 'detect', 'clever', 'violent', 'rape', 'reach', 'door', 'trash', 'liter', 'scienc', 'commun', 'caught', 'reveng', 'creatur', 'approach', 'trip', 'fashion', 'intrigu', 'introduc', 'skill', 'paint', 'complex', 'channel', 'camp', 'christian', 'hole', 'extra', 'limit', 'immedi', 'ann', 'mental', 'slightli', 'mere', 'comput', 'million', '6', 'slasher', 'conclus', 'suddenli', 'imposs', 'teen', 'neither', 'crimin', 'spent', 'physic', 'nation', 'respons', 'planet', 'receiv', 'fake', 'blue', 'sick', 'bizarr', 'embarrass', 'indian', '15', 'ring', 'drop', 'pop', 'drag', 'haunt', 'pointless', 'suspect', 'search', 'edg', 'handl', 'common', 'biggest', 'arriv', 'faith', 'hurt', 'technic', 'angel', 'genuin', 'dad', 'solid', 'f', 'awesom', 'focu', 'colleg', 'former', 'van', 'count', 'heavi', 'tear', 'wall', 'rais', 'younger', 'visit', 'laughabl', 'sign', 'fair', 'excus', 'cult', 'key', 'motion', 'tough', 'desir', 'super', 'stun', 'addit', 'exploit', 'cloth', 'tortur', 'smith', 'davi', 'race', 'author', 'cross', 'jim', 'consist', 'focus', 'minor', 'compel', 'commit', 'chemistri', 'pathet', 'park', 'obsess', 'frank', 'tradit', 'grade', '60', 'asid', 'brutal', 'steve', 'somewher', 'explor', 'rule', 'u', 'opportun', 'depress', 'grant', 'honest', 'besid', 'anti', 'dub', 'intend', 'trailer', 'bar', 'longer', 'scientist', 'west', 'regard', 'judg', 'decad', 'silent', 'armi', 'creativ', 'wild', 'g', 'south', 'stewart', 'draw', 'road', 'govern', 'ex', 'boss', 'practic', 'surprisingli', 'motiv', 'festiv', 'gang', 'club', 'london', 'redeem', 'green', 'page', 'aliv', 'idiot', 'display', 'militari', 'machin', 'thrill', 'repeat', '100', 'folk', 'nobodi', 'yeah', '40', 'garbag', 'journey', 'smile', 'tire', 'ground', 'bought', 'mood', 'cost', 'stone', 'sam', 'mouth', 'noir', 'agent', 'terrif', 'utterli', 'requir', 'honestli', 'sexi', 'area', 'report', 'geniu', 'glad', 'investig', 'enter', 'humour', 'serial', 'narr', 'occasion', 'passion', 'climax', 'marriag', 'studi', 'industri', 'center', 'nowher', 'charli', 'ship', 'demon', 'hors', 'loos', 'bear', 'wow', 'hang', 'graphic', 'giant', 'admir', 'send', 'loud', 'damn', 'profession', 'subtl', 'rel', 'nake', 'blow', 'bottom', 'insult', 'batman', 'kelli', 'boyfriend', 'doubl', 'r', 'initi', 'frame', 'opera', 'gem', 'affect', 'challeng', 'drawn', 'church', 'cinemat', 'fulli', 'evid', 'j', 'nightmar', 'seek', 'l', 'conflict', 'arm', 'essenti', 'henri', 'christoph', 'grace', 'wind', 'assum', 'narrat', 'witch', 'hunt', 'push', 'chri', 'wise', 'repres', 'month', 'nomin', 'avail', 'affair', 'sceneri', 'hide', 'justic', 'smart', 'thu', 'bond', 'flashback', 'interview', 'outstand', 'satisfi', 'constantli', 'presenc', 'central', 'bed', 'content', 'sell', 'iron', 'gag', 'everybodi', 'slowli', 'hotel', 'hire', 'system', 'thrown', 'hey', 'adam', 'individu', 'charl', 'mediocr', 'jone', 'allen', 'lesson', 'billi', 'ray', 'photographi', 'cameo', 'pari', 'fellow', 'strike', 'absurd', 'rise', 'independ', 'brief', 'neg', 'impact', 'phone', 'model', 'born', 'ill', 'spoil', 'angl', 'fresh', 'abus', 'likabl', 'discuss', 'hill', 'sight', 'ahead', 'photograph', 'sent', 'shine', 'blame', 'logic', 'occur', 'mainli', 'bruce', 'forev', 'commerci', 'skip', 'teacher', 'held', 'surround', 'segment', 'blond', 'zero', 'resembl', 'satir', 'summer', 'trap', 'queen', 'fool', 'six', 'ball', 'twice', 'tragedi', 'sub', 'reaction', 'pack', 'bomb', 'protagonist', 'hospit', 'will', 'sport', 'mile', 'drink', 'vote', 'jerri', 'trust', 'mom', 'encount', 'plane', 'station', 'current', 'program', 'al', 'choos', 'martin', 'celebr', 'join', 'favourit', 'lord', 'tragic', 'round', 'field', 'robot', 'vision', 'jean', 'arthur', 'tie', 'fortun', 'roger', 'random', 'intern', 'psycholog', 'dread', 'nonsens', 'prefer', 'improv', 'epic', 'legend', 'highlight', 'formula', 'pleasur', 'tape', '11', 'dollar', 'porn', 'gorgeou', 'fox', 'wide', 'object', 'thin', 'ugli', 'buddi', 'influenc', 'ii', 'nasti', 'prepar', 'progress', 'reflect', 'supposedli', 'warm', 'worthi', 'youth', 'length', 'latter', 'unusu', 'crash', 'superior', 'seven', 'childhood', 'shop', 'remot', 'theatr', 'disgust', 'paid', 'funniest', 'pilot', 'trick', 'fell', 'convers', 'castl', 'disast', 'rob', 'establish', 'gangster', 'mine', 'disappear', 'heaven', 'ident', 'suicid', 'decis', 'tend', 'singer', 'forgotten', 'heroin', 'mask', 'brian', 'partner', 'alan', 'recogn', 'desert', 'sky', 'thoroughli', 'stuck', 'p', 'ms', 'accur', 'replac', 'market', 'seemingli', 'clue', 'andi', 'commentari', 'eddi', 'uncl', 'danni', 'jackson', 'devil', 'therefor', 'pair', 'refus', 'that', 'unit', 'fate', 'accid', 'river', 'ed', 'fault', 'afraid', 'tune', 'stephen', 'clean', 'russian', 'hidden', 'readi', 'irrit', 'captain', 'convey', 'quick', 'instanc', 'test', 'european', 'daniel', 'frustrat', 'insan', '1950', 'food', 'wed', 'rescu', 'chines', 'angri', 'lock', 'dirti', 'joy', 'price', 'steven', 'bland', 'cage', 'rang', 'anymor', 'wooden', 'n', 'news', 'rush', 'jason', 'twenti', 'martial', 'worri', 'board', 'led', '12', 'cgi', 'symbol', 'transform', 'hunter', 'piti', 'x', 'johnni', 'onto', 'sentiment', 'invent', 'attitud', 'explan', 'process', 'awar', 'owner', 'aim', 'target', 'energi', 'favor', 'necessari', 'floor', 'opposit', 'religi', 'window', 'blind', 'chick', 'insight', 'movement', 'research', 'mountain', 'comparison', 'possess', 'deepli', 'whatsoev', 'comed', 'grand', 'rain', 'shadow', 'bank', 'mid', 'began', 'princ', 'parodi', 'taylor', 'weapon', 'friendship', 'pre', 'credibl', 'teach', 'flesh', 'dougla', 'terror', 'bloodi', 'protect', 'hint', 'marvel', 'superman', 'accord', 'drunk', 'load', 'anybodi', 'watchabl', 'leader', 'freddi', 'brown', 'appropri', 'jeff', 'tim', 'seat', 'hitler', 'knock', 'unknown', 'charg', 'villag', 'keaton', 'empti', 'media', 'unnecessari', 'england', 'enemi', 'strength', 'craft', 'utter', 'buck', 'perspect', 'dare', 'wave', 'nativ', 'correct', 'ford', 'kiss', 'contrast', 'knowledg', 'soap', 'anywher', 'magnific', 'speed', 'distract', 'chill', 'nazi', 'mission', 'ice', 'fred', '1980', 'breath', 'crowd', 'moon', 'jr', 'joan', 'soft', '000', 'kate', 'frighten', 'nick', 'dan', 'hundr', 'dick', 'dozen', 'simon', 'radio', 'somebodi', 'loss', 'academi', 'shakespear', 'thousand', 'andrew', 'root', 'quot', 'account', 'sum', 'vehicl', 'convent', 'leg', '1970', 'behavior', 'gold', 'regular', 'compet', 'worker', 'demand', 'pretenti', 'japan', 'stretch', 'notabl', 'interpret', 'explos', 'lynch', 'privat', 'candi', 'constant', 'debut', 'tarzan', 'spi', 'sea', 'revolv', 'prais', 'translat', 'quiet', 'ass', 'failur', 'franc', 'threaten', 'sat', 'jesu', 'technolog', 'met', 'higher', 'aid', 'toy', 'kevin', 'punch', 'interact', 'mike', 'vh', 'abandon', 'command', 'separ', 'confront', 'bet', 'belong', 'servic', 'techniqu', 'gotten', 'recal', 'site', 'stunt', 'foot', 'bug', 'freak', 'cabl', 'bright', 'capabl', 'fu', 'jimmi', 'african', 'stock', 'fat', 'presid', 'clark', 'boat', 'succeed', 'gene', 'spanish', 'structur', 'paper', 'kidnap', 'belief', 'factor', 'whilst', 'educ', 'attend', 'bob', 'complic', 'witti', 'tree', 'realism', 'realis', 'broken', 'santa', 'assist', 'finest', 'observ', 'determin', 'depart', 'v', 'smoke', 'up', 'fame', 'hat', 'rubbish', 'domin', 'lewi', 'oper', 'routin', 'hook', 'safe', 'lone', 'foreign', 'kinda', 'morgan', 'advanc', 'numer', 'rank', 'shallow', 'vs', 'shape', 'civil', 'washington', 'rose', 'werewolf', 'gari', 'morn', 'ordinari', 'accomplish', 'kong', 'winner', 'whenev', 'peac', 'grab', 'virtual', 'luck', 'offens', 'h', 'activ', 'patient', 'welcom', 'contriv', 'bigger', 'unfunni', 'complain', 'dimension', 'trek', 'con', 'pretend', 'code', 'wake', 'flash', 'dri', 'eric', 'lesbian', 'cain', 'guard', 'manipul', 'corrupt', 'statu', 'albert', 'dancer', 'signific', 'awkward', 'gain', 'context', 'speech', 'sourc', 'sean', 'corni', 'anthoni', 'clip', '13', 'psycho', 'advic', 'religion', 'curiou', 'w', 'reli', 'priest', 'theatric', 'flow', 'addict', 'skin', 'secur', 'specif', 'jennif', 'asian', 'howard', 'comfort', 'organ', 'luke', 'core', 'golden', 'promot', 'cheat', 'cash', 'lucki', 'associ', 'dislik', 'lower', 'contribut', 'frankli', 'degre', 'devic', 'balanc', 'spell', 'regret', 'wing', 'frequent', 'print', 'lake', 'sake', 'forgiv', 'thoma', 'mass', 'betti', 'gordon', 'unexpect', 'crack', 'grown', 'depend', 'amateur', 'invit', 'categori', 'construct', 'unfold', 'condit', 'walter', 'intellectu', 'grew', 'matur', 'anna', 'honor', 'sudden', 'veteran', 'mirror', 'sole', 'spectacular', 'meanwhil', 'freedom', 'demonstr', 'robin', 'overli', 'card', 'gift', 'grip', 'experienc', 'liner', 'colour', 'brilliantli', 'circumst', 'section', 'oliv', 'subtitl', 'crappi', 'theori', 'unabl', 'sheriff', 'drew', 'sheer', 'laughter', 'pile', 'path', 'altern', 'matt', 'cook', 'parker', 'hall', 'treatment', 'accident', 'wander', 'lawyer', 'relief', 'defin', 'sinatra', 'dragon', 'hank', 'captiv', 'gratuit', 'halloween', 'moor', 'cowboy', 'unintent', 'kung', 'wayn', 'barbara', 'jacki', 'k', 'wound', 'broadway', 'surreal', 'spoof', 'winter', 'statement', 'canadian', 'compos', 'treasur', 'cheer', 'fare', 'fish', 'gonna', 'sensit', 'victor', 'emerg', 'unrealist', 'woodi', 'driven', 'sympathet', 'neighbor', 'ran', 'expos', 'topic', 'menac', 'authent', 'overlook', 'glass', 'gross', 'handsom', 'ancient', 'michel', 'chief', 'feet', 'nevertheless', 'stranger', 'built', 'contemporari', 'pleasant', 'russel', 'comedian', 'network', 'cinderella', 'miser', 'endless', 'gori', 'earn', 'consider', 'blockbust', 'underr', 'letter', 'switch', 'solv', 'brook', 'virgin', 'victoria', 'convict', 'joseph', 'edward', 'bullet', 'scenario', '0', 'cynic', 'chosen', 'scale', 'alex', 'curs', 'gut', 'outrag', 'com', 'sword', 'monkey', 'screenwrit', 'uk', 'driver', 'proper', 'wrap', 'juli', 'substanc', 'remov', 'bird', 'indic', 'par', 'court', 'consequ', 'loser', 'rental', 'grave', 'advertis', 'naiv', 'inevit', 'roy', 'nanci', 'le', 'fatal', 'brave', 'invis', 'germani', 'slap', 'bridg', 'provok', 'footbal', 'anger', 'loui', 'ador', 'alcohol', 'chan', 'anderson', 'ryan', 'professor', 'stumbl', 'willi', 'australian', 'bat', 'sharp', 'patrick', '1930', 'assassin', 'liber', 'eight', 'deni', 'lousi', 'amateurish', 'saturday', 'heck', 'strongli', 'trilog', 'cell', 'refresh', 'ape', 'sin', 'san', 'vagu', 'resid', 'justifi', 'terrifi', 'sympathi', 'defeat', 'reput', 'mini', 'indi', 'creator', 'tediou', 'expert', 'tabl', 'task', 'prevent', 'endur', 'rival', 'trial', 'employ', 'imit', 'basebal', 'offend', 'che', 'beach', 'pitch', 'dig', 'weekend', 'max', 'complaint', 'fairi', 'europ', 'purchas', 'format', 'murphi', 'risk', 'tini', 'nois', 'bite', 'hype', 'reminisc', 'powel', 'titan', 'glimps', 'harsh', 'fals', 'strip', 'prime', 'north', '14', 'asleep', 'till', 'revel', 'texa', 'descript', 'africa', 'destruct', 'spin', 'surfac', 'sitcom', 'excess', 'semi', 'uninterest', 'arrest', 'inner', 'controversi', 'makeup', 'twin', 'argu', 'massiv', 'maintain', 'dinosaur', 'hitchcock', 'ludicr', 'kim', 'insist', 'stare', 'ideal', 'expens', 'reject', 'melodrama', 'press', 'erot', 'atroci', 'supernatur', 'forest', 'ga', 'ala', 'subplot', 'nail', 'host', 'columbo', 'identifi', 'cant', 'presum', 'notch', 'dude', 'character', 'forgett', 'method', 'crude', 'plagu', 'guest', 'closer', 'princess', 'ear', 'landscap', 'beast', 'lion', 'border', 'foster', 'urban', 'birth', 'previous', 'damag', 'accus', 'bound', 'aunt', 'jungl', 'storytel', 'pacino', 'thirti', 'chose', 'propaganda', 'nude', 'doll', 'jess', 'emma', 'guid', '25', 'pet', 'mate', 'whoever', 'warrior', 'mainstream', 'size', 'deadli', 'upset', 'exact', 'friday', 'cooper', 'poster', 'merit', 'gritti', 'latest', 'sun', 'corps', '1990', 'wilson', 'ton', 'contact', 'popul', 'warner', 'rough', 'buff', 'blend', 'settl', 'contest', 'citizen', 'overcom', 'rat', 'pitt', 'widow', 'alic', 'environ', 'select', 'bu', 'metal', 'mgm', 'lift', 'ted', 'guilti', 'particip', 'link', 'revolut', '1960', 'moron', 'exagger', 'afternoon', 'matrix', 'accompani', 'corpor', 'johnson', 'prostitut', 'corner', 'friendli', 'hood', 'sincer', 'instal', 'leagu', 'multipl', 'clair', 'holm', 'doom', 'sunday', 'lugosi', 'grim', 'hip', 'advis', 'irish', 'defend', 'aka', 'campi', 'examin', 'blah', 'string', 'junk', 'varieti', 'shut', 'tight', 'shake', 'rachel', 'pro', 'confid', 'icon', 'directli', 'medic', 'jaw', 'goal', 'mexican', 'sullivan', 'denni', 'attach', 'legendari', 'duke', 'truck', 'sarah', 'breast', 'courag', 'prior', 'sentenc', 'vietnam', 'dean', 'terrorist', 'bourn', 'un', 'donald', 'nose', 'split', 'yell', 'behav', 'proceed', 'hong', 'entri', 'buri', 'gather', 'stolen', 'confess', 'borrow', 'swim', 'forth', 'everywher', 'unconvinc', 'jerk', 'crush', 'lifetim', 'concentr', 'pan', 'california', 'deliveri', 'turkey', 'spite', 'lip', 'julia', 'flight', 'reward', 'proud', 'offici', 'china', 'hoffman', 'quest', 'downright', 'freeman', 'jail', 'sink', 'fade', 'inept', 'encourag', 'betray', 'fabul', 'jon', 'sir', 'lazi', 'worthwhil', 'notori', 'bag', 'survivor', 'bell', 'teeth', 'shower', 'susan', 'cousin', 'lisa', 'relev', 'imageri', 'storm', 'branagh', 'retard', 'finger', 'facial', 'tremend', 'quirki', 'shark', 'alright', 'bride', 'mexico', 'toler', 'summari', 'trade', 'stab', 'hugh', 'pose', 'bitter', 'blown', 'von', 'ha', 'hyster', 'cruel', 'scheme', 'ned', 'afterward', 'bone', 'christ', 'address', 'larri', 'ron', 'tour', 'pursu', 'snake', 'thumb', 'traci', 'feed', 'beg', 'distinct', 'screw', 'swear', 'mechan', 'photo', 'occas', 'chair', 'stomach', 'obscur', 'raw', 'southern', 'gruesom', 'necessarili', 'holiday', 'argument', 'sidney', 'cabin', 'chain', 'render', 'hardi', 'heavili', 'resist', 'satan', 'racist', 'indulg', 'understood', 'philip', 'india', 'fourth', 'midnight', 'belov', 'lay', 'pregnant', 'forgot', 'outfit', 'integr', 'stalk', 'tongu', 'obnoxi', 'garden', 'carol', 'ticket', 'magazin', 'slapstick', 'restor', 'inhabit', '17', 'deeper', 'shoe', 'incid', 'brad', 'lincoln', 'devot', 'disbelief', 'maria', 'elizabeth', 'benefit', 'divorc', 'guarante', 'sandler', 'anticip', 'underground', 'lili', 'mildli', 'amazingli', 'greater', 'creation', 'cring', 'slave', 'capit', 'explod', 'princip', 'bbc', 'extraordinari', 'funnier', 'lesli', 'introduct', 'halfway', 'enhanc', 'punish', 'text', 'wreck', 'transfer', 'tap', 'overwhelm', 'extent', 'advantag', 'lo', 'horrif', 'preview', 'lane', 'plant', 'east', 'dynam', 'error', 'jessica', 'deliber', 'basi', 'ensu', 'vincent', 'sophist', 'appli', 'homosexu', 'vacat', '2000', 'miscast', 'miller', 'spoken', 'via', 'uncomfort', 'bollywood', 'mansion', 'elev', 'measur', 'steel', 'reed', 'extend', 'sleazi', 'fix', 'cathol', 'overact', 'alter', 'mous', 'beer', 'stanley', 'breathtak', 'conceiv', 'dentist', 'hippi', 'goofi', 'blair', 'assign', 'savag', 'daili', 'melt', 'nowaday', 'properli', 'everyday', 'sacrific', 'burt', 'oppos', 'carpent', 'subsequ', 'inspector', 'succe', 'circl', 'massacr', 'neck', 'laura', 'block', 'fay', 'fallen', 'portrait', 'seagal', 'pool', 'lesser', 'christi', 'mob', 'concert', 'grey', 'access', 'react', 'relax', 'chees', 'isol', 'competit', 'jake', 'sinist', 'usa', 'jewish', 'suitabl', 'immens', 'stink', 'creep', 'spiritu', 'ironi', 'nine', 'lyric', '2006', 'chop', 'appal', 'nonetheless', 'shirt', 'user', 'navi', 'retir', 'luci', 'rage', 'adopt', 'sold', 'franchis', 'nut', 'showcas', 'reduc', 'needless', 'spring', 'digit', 'jay', 'bulli', 'asham', 'per', 'bath', 'uninspir', 'zone', 'nurs', 'stanwyck', 'amongst', '1940', 'laid', 'sutherland', '2001', 'broadcast', 'oddli', 'upper', 'illustr', 'fulfil', 'disguis', 'throat', 'aspir', 'brando', 'stylish', 'baker', 'thief', '18', 'neighborhood', 'pound', 'endear', 'wwii', 'em', 'pride', 'nobl', 'wanna', 'impli', '16', 'albeit', 'prop', 'bett', 'tens', 'distribut', 'shift', 'dinner', 'rochest', 'shoulder', 'dawn', 'coher', 'bo', 'cinematograph', 'diseas', 'function', 'wash', 'forti', 'silenc', 'matthau', 'poignant', 'snow', 'contract', 'knife', 'surf', 'rebel', 'shout', 'silver', 'chuck', 'horrend', 'proof', 'mindless', 'henc', 'height', 'derek', 'instinct', 'heat', 'cannib', 'cancel', 'reunion', 'internet', 'duti', 'eeri', 'widmark', 'elvira', 'repetit', 'glori', 'torn', 'premier', 'alik', 'greatli', 'etern', 'innov', 'absorb', 'musician', 'pie', 'incoher', 'elvi', 'spielberg', 'mill', 'neat', 'precis', 'racism', 'infam', 'lovabl', 'burton', 'fbi', 'horrifi', 'nelson', 'britain', 'bang', 'homag', 'trite', 'wealthi', 'blank', 'diamond', 'redempt', 'announc', 'itali', 'crisi', 'ensembl', 'parallel', 'hammer', 'happili', 'chaplin', 'pat', 'wilder', 'resolut', 'flop', 'dedic', 'streisand', 'helen', 'conclud', 'disagre', 'oil', 'plastic', 'mar', 'broke', 'factori', 'triumph', 'cube', 'st', 'carter', 'march', 'vega', 'bush', 'fighter', 'own', 'climb', 'chuckl', 'row', 'weight', 'rocket', 'enorm', 'wherea', 'spare', 'dump', 'mst3k', 'thug', 'dane', 'unforgett', 'boot', 'sensibl', 'kurt', 'meaning', 'lust', 'luca', 'bobbi', 'engin', 'threat', 'rap', 'karloff', 'adequ', 'stress', 'dear', 'caricatur', 'difficulti', 'brand', 'butt', 'fifti', 'arnold', 'secretari', 'arrog', 'elabor', 'flynn', 'journalist', 'barri', 'swing', 'ralph', 'ego', 'polish', 'hamlet', 'fest', 'homeless', 'conspiraci', 'resort', 'float', 'fanci', 'simpson', 'arrang', 'induc', 'unbear', 'spike', 'puppet', 'tool', 'grate', 'boll', 'phillip', 'choreograph', 'tribut', 'basement', 'guilt', 'exercis', 'cruis', 'muppet', 'pig', 'item', 'fianc', 'puzzl', 'ham', 'scarecrow', 'editor', 'layer', 'medium', 'ward', '24', 'tower', 'babe', 'file', 'document', 'toilet', 'stan', 'slip', 'korean', 'assur', 'persona', 'catherin', 'librari', 'inexplic', 'minim', 'philosoph', 'spark', 'portion', 'denzel', 'doc', 'larger', 'superfici', 'orient', 'transit', 'slaughter', 'territori', 'glover', 'dorothi', 'financi', 'boredom', 'ban', 'sneak', 'pg', 'jet', 'owe', 'jeremi', 'curti', 'shi', 'walken', 'wolf', 'whale', 'ambigu', 'metaphor', 'eleph', 'cusack', 'profound', 'hudson', 'multi', 'backdrop', '2005', 'implaus', 'birthday', 'rave', 'viru', 'hack', 'elsewher', 'ultra', 'notion', 'union', 'stiff', 'gadget', 'distanc', 'urg', 'pad', 'lloyd', 'squar', 'bibl', 'superhero', 'disc', 'afford', 'canada', 'reader', 'hawk', '1st', 'poison', 'deriv', 'eastwood', 'eva', 'newspap', 'slight', 'skit', 'sadist', 'cure', 'button', 'huh', 'charisma', 'drown', 'spread', 'health', 'essenc', 'restaur', 'heston', 'montag', 'godfath', 'dealt', 'maniac', 'peak', 'estat', 'fetch', 'lab', 'companion', 'gradual', 'invest', 'muslim', 'scoobi', 'gothic', 'subtleti', 'cup', 'countless', 'servant', 'miik', 'alli', 'kane', 'tea', 'ritter', 'electr', 'heroic', 'briefli', 'iii', 'elect', 'salli', 'charismat', 'tender', 'admittedli', 'neil', 'grandmoth', 'ingredi', 'cole', 'reel', 'toss', 'wannab', 'nuanc', 'resourc', 'bud', 'dawson', 'carrey', 'gate', 'label', 'pit', 'stood', 'pauli', 'mafia', 'poverti', 'mild', 'punk', 'shall', 'stronger', 'reev', 'kubrick', 'burst', 'ian', 'updat', 'assault', 'useless', 'smooth', 'easier', 'cox', 'smash', 'outcom', 'cardboard', 'tag', 'astair', 'fond', 'terri', 'bakshi', 'fist', 'qualifi', 'exchang', 'resolv', 'vulner', 'increasingli', 'divers', 'coincid', '2002', 'melodramat', 'rex', 'vari', 'samurai', 'sketch', 'suspend', 'insert', 'blast', 'luckili', 'be', 'scratch', 'reynold', 'brillianc', 'tame', 'conveni', 'templ', 'coach', 'meat', 'jami', 'nuclear', 'farm', 'strictli', 'walker', 'matthew', 'fisher', 'pin', 'gotta', 'hamilton', 'ambiti', 'seventi', 'soprano', 'recreat', 'closet', 'kudo', 'monk', 'timeless', 'discoveri', 'clock', 'brosnan', 'struck', 'butcher', 'spooki', 'cave', 'eccentr', 'convolut', 'worthless', 'instantli', 'empir', 'joey', 'grasp', 'revers', 'ninja', 'norman', 'sidekick', 'clown', 'wipe', 'selfish', 'seller', 'eighti', 'miracl', 'mitchel', 'declar', 'communist', 'pal', 'sloppi', 'gray', 'evok', 'partli', 'fifteen', 'cliff', 'inconsist', 'importantli', 'bleak', 'flawless', 'websit', 'piano', 'destin', 'chew', '45', 'lifestyl', 'psychiatrist', 'enthusiast', 'farc', 'superbl', 'cheek', 'aforement', 'debat', 'australia', 'ho', 'seed', 'stoog', 'bash', 'pressur', 'emili', 'incompet', 'soviet', 'regardless', 'abc', 'slice', 'akshay', 'wick', 'directori', 'dire', 'anni', 'dash', 'splatter', 'drivel', 'kitchen', 'wrestl', 'pleasantli', 'distant', 'mann', 'beaten', 'curios', 'jar', 'lou', 'increas', 'artifici', 'suppli', 'chapter', 'boil', 'judi', 'seduc', 'cia', 'ken', 'recov', 'duo', 'cameron', 'flower', 'helicopt', 'prize', 'blob', 'dave', 'glow', 'cagney', 'doo', 'francisco', 'craig', 'turner', 'favour', 'ellen', 'perri', 'psychot', 'laurel', 'craven', 'panic', 'eleg', 'hop', 'splendid', 'drunken', 'ranger', 'web', 'glenn', 'goldberg', 'combat', 'alexand', 'gentl', 'shortli', '20th', 'slightest', 'flip', 'plausibl', 'rid', 'graduat', 'philosophi', 'ruth', 'wizard', 'fx', 'hatr', 'falk', 'min', 'gandhi', 'greek', 'modesti', 'unpleas', 'holi', 'felix', 'knight', 'legal', 'futurist', 'we', 'harm', 'lend', 'fund', 'tall', 'manhattan', 'jealou', 'preciou', 'ocean', 'dracula', 'explicit', 'childish', 'digniti', 'scientif', 'mock', 'tank', 'bless', 'forbidden', 'giallo', 'ami', 'nod', 'overdon', 'reviv', 'thread', '2004', 'elderli', 'repeatedli', 'thick', 'awe', 'verhoeven', '99', 'fever', 'yesterday', 'awaken', 'unwatch', 'margaret', 'nerv', 'pirat', 'mel', 'eve', 'broad', 'torment', 'custom', 'bin', 'romero', 'automat', 'uniform', 'launch', 'rivet', 'politician', 'griffith', 'timothi', 'stiller', 'lean', 'publish', 'roman', 'ah', 'kay', 'eas', 'acclaim', 'royal', 'absenc', 'ambit', 'stinker', 'foul', 'pulp', 'bathroom', 'wallac', 'warren', 'tomato', 'homicid', 'termin', 'crook', 'pierc', 'darker', 'sunshin', 'phrase', 'transport', 'purpl', 'antic', 'gabriel', 'horrid', 'saint', 'pray', '2003', 'ought', 'choreographi', 'marin', 'album', 'packag', 'eyr', 'sixti', 'hollow', 'brazil', 'juvenil', 'donna', 'coloni', 'awak', 'q', 'contrari', 'karen', 'kenneth', 'revolutionari', 'evolv', 'prom', 'viciou', 'li', 'rambo', 'boast', 'candid', 'stole', 'nerd', 'defi', 'option', 'conserv', 'twelv', 'ireland', 'ramon', 'beatti', 'blade', 'dose', 'kapoor', 'mummi', 'overr', 'mildr', 'natali', 'confirm', 'protest', 'collabor', 'trio', 'flame', 'jazz', 'global', 'funer', 'astonish', 'fulci', 'altman', 'kirk', 'detract', 'racial', 'blake', 'nicholson', 'delici', 'spit', 'shade', 'audio', 'enterpris', 'mystic', 'bottl', 'destini', 'bull', 'tommi', 'whip', 'leap', 'yellow', 'vivid', 'adolesc', 'pseudo', 'enchant', 'fonda', 'staff', 'meaningless', 'altogeth', 'threw', 'merci', 'popcorn', 'harder', 'reunit', 'neo', 'inherit', 'todd', 'bedroom', 'visibl', 'swedish', 'bust', 'await', 'decor', 'fanat', 'roommat', 'lemmon', 'suspici', 'kennedi', 'tip', 'wire', 'exhibit', 'lawrenc', 'ruthless', 'edi', 'madonna', 'atlanti', 'uneven', 'reserv', 'voight', 'befriend', 'respond', 'crocodil', 'moodi', 'synopsi', 'leonard', 'jew', 'holli', 'bold', 'chao', 'incident', 'rural', 'abysm', 'ventur', 'centr', '2007', 'unsettl', 'audit', 'voyag', 'bargain', 'bradi', 'palma', 'dimens', 'clumsi', 'carl', 'clint', 'garner', 'characterist', 'lit', 'poetic', 'humili', 'versu', 'elimin', 'cd', 'daddi', 'mall', 'timon', 'nearbi', '2nd', 'imperson', 'wealth', 'echo', 'neglect', 'acknowledg', 'hart', 'cuba', 'troop', 'trail', 'tiger', 'immigr', 'ant', 'cari', 'pun', 'paus', 'jeffrey', 'domest', 'repuls', 'collaps', 'celluloid', 'mistaken', 'infect', 'mickey', 'marshal', 'solo', 'saga', 'prejudic', 'homer', 'milk', 'hbo', 'gear', '1996', 'chest', 'promin', 'assembl', 'apolog', 'inappropri', 'leon', 'coat', 'equip', 'ginger', 'tribe', 'olivi', 'cake', 'pant', 'harvey', 'sore', 'undoubtedli', 'inan', 'interrupt', 'coffe', 'humbl', 'consum', 'primari', 'embrac', 'brooklyn', 'vulgar', 'furthermor', 'devast', 'highest', 'institut', 'aveng', 'pen', 'solut', 'florida', 'polanski', 'colonel', 'airplan', 'maggi', 'colleagu', 'instant', 'retain', 'pot', 'jenni', 'trace', 'exot', 'descend', 'principl', 'outer', 'smaller', 'bowl', 'cope', 'poke', 'dian', 'disabl', 'seduct', 'wive', '1999', 'linda', 'dutch', '3rd', 'godzilla', 'sale', 'rick', 'illog', 'ya', 'strain', 'gender', 'gloriou', 'hal', 'rabbit', 'cue', 'blatant', 'devoid', 'mixtur', 'secondli', 'lol', 'dud', 'inferior', 'bubbl', 'beneath', 'dive', 'predecessor', 'vast', 'scope', 'primarili', 'yard', 'glamor', 'gundam', 'breed', 'april', 'grinch', 'myer', 'disjoint', 'pearl', 'streep', 'senseless', 'shirley', 'z', 'simplist', 'invas', 'aggress', 'alert', 'alfr', 'et', 'domino', 'arab', 'talki', 'trademark', 'museum', 'hideou', 'countrysid', 'shelf', 'casual', 'garbo', 'stir', 'hardcor', 'uwe', 'hopeless', 'vanish', 'disgrac', 'illeg', 'sh', 'loyal', 'rendit', 'defens', 'mail', 'boom', 'applaud', 'maci', 'experiment', 'mayor', 'unhappi', 'acid', 'robberi', 'oz', 'slide', 'khan', 'stellar', 'robinson', 'obtain', 'stack', 'hartley', 'amanda', 'tempt', 'blew', 'recruit', 'span', 'psychic', 'dicken', 'scroog', 'soccer', 'rifl', 'fri', 'craze', 'tenant', 'dismiss', 'berlin', 'diana', 'incomprehens', 'wont', 'emphasi', 'topless', 'declin', 'counter', 'grandfath', 'spider', 'justin', 'riot', 'bitch', 'revolt', 'ethnic', 'resurrect', 'intim', 'wet', 'lumet', 'woo', 'ration', 'parad', 'sympath', 'goer', 'porno', 'niro', 'sibl', 'faster', 'shed', 'trashi', 'shaw', 'dealer', 'wendi', 'commend', 'slick', '00', 'eager', 'jonathan', 'wheel', 'lena', 'immort', 'hesit', 'ballet', 'steam', 'rider', 'unreal', 'ensur', 'nephew', 'honesti', 'hopper', 'feminist', 'patriot', 'region', 'worm', 'enlighten', 'gap', 'farmer', 'weakest', 'partial', 'biographi', 'mario', 'choru', 'andr', 'wore', 'kingdom', 'hung', 'similarli', 'composit', 'snap', 'leo', 'blunt', 'charlott', 'skull', 'mutant', 'confin', 'franco', 'safeti', 'owen', 'repress', 'victori', 'nostalg', 'sandra', 'util', 'psychopath', 'properti', 'morri', 'vice', 'sappi', 'prequel', 'macarthur', 'deed', 'montana', 'emperor', 'del', 'exit', 'rope', 'cg', 'acquir', 'tail', 'bonu', 'dalton', 'heartbreak', 'repli', 'miseri', 'compass', 'snl', '1972', 'drain', 'hyde', 'rocki', 'bow', 'thru', 'farrel', 'pattern', 'bergman', 'drum', 'recycl', 'despair', 'whoopi', 'bumbl', 'dust', 'valuabl', 'compens', 'tad', 'speci', 'rambl', 'campbel', 'latin', 'strand', 'nervou', 'kyle', 'oppress', 'romp', '35', 'martian', 'percept', 'rotten', 'mistress', 'rapist', 'orson', 'gal', 'pour', 'tonight', 'wacki', 'radic', 'bleed', 'da', 'gimmick', 'downhil', 'chess', 'roth', 'olli', 'contempl', 'airport', 'carradin', 'slug', 'stilt', 'dazzl', 'arguabl', 'champion', 'taught', 'mislead', 'programm', 'pervert', 'attorney', 'tackl', 'arc', '1983', 'edgar', 'preach', 'unpredict', 'belt', 'banal', 'shelley', 'pursuit', 'tooth', 'pervers', 'heal', 'paltrow', 'slash', 'melodi', 'cleverli', 'bela', 'vengeanc', 'employe', 'gambl', 'graham', 'virginia', 'conneri', 'plight', 'passeng', 'chicken', 'closest', 'franki', 'marti', 'uplift', 'rubi', 'vocal', 'tiresom', 'maid', 'dixon', 'sensat', 'mesmer', 'poem', 'duval', 'orang', 'raymond', 'monologu', 'scottish', 'calm', 'outing', 'climact', 'swallow', 'habit', 'mute', 'abraham', 'extens', 'volum', 'convincingli', 'inject', 'suffic', 'pokemon', '1968', 'lundgren', 'amitabh', 'numb', 'paranoia', 'quarter', 'tube', 'yawn', 'giggl', 'gerard', 'clone', 'iran', 'secretli', 'crystal', 'whine', 'profan', 'bay', 'sirk', 'engross', 'lowest', 'poetri', 'backward', 'expand', 'chicago', 'junior', 'nichola', 'bend', 'plod', 'profess', 'frankenstein', 'meander', 'im', 'franci', 'earl', 'linger', 'surpass', 'fed', 'septemb', 'taxi', 'trend', 'ethan', 'grotesqu', 'abort', 'underst', 'richardson', 'austen', 'dispos', 'spock', 'greedi', 'compliment', 'spoke', 'muddl', 'catchi', 'dysfunct', 'sue', 'rubber', 'der', 'rant', 'household', 'waitress', 'stallon', 'econom', 'literatur', 'lure', 'hum', 'myth', 'instrument', 'simplic', 'eugen', 'cannon', 'mundan', 'descent', 'tourist', 'nostalgia', 'june', 'alongsid', 'carel', 'mortal', 'dement', 'deaf', 'crucial', 'insur', 'mankind', 'flee', 'equival', 'coast', 'stale', 'molli', 'randi', 'louis', 'irrelev', 'occupi', 'recognit', 'phantom', 'eaten', 'recognis', 'lang', 'firstli', 'omen', 'cent', 'dictat', 'map', 'damon', 'phoni', 'duck', 'sissi', 'furi', 'bacal', 'hello', 'freez', 'likewis', 'dreari', 'antwon', 'reign', 'ashley', 'rooney', 'bike', 'twilight', 'bump', 'rude', 'grayson', 'distinguish', 'lengthi', '1973', 'labor', 'loyalti', 'buffalo', 'drake', 'daisi', 'wisdom', 'cyborg', 'newli', 'damm', 'onlin', 'biko', 'heel', 'blackmail', 'baddi', 'unorigin', 'interior', 'inher', 'proce', 'pink', 'basketbal', 'exposur', 'analysi', 'sailor', 'vein', 'startl', 'barrymor', 'nineti', 'ridden', 'butler', 'provoc', 'approv', 'attribut', 'emphas', 'worn', 'chronicl', 'boxer', 'prey', 'incorpor', 'keith', 'tunnel', 'fleet', 'condemn', 'undeni', 'substitut', 'mighti', 'underli', 'bunni', 'stalker', 'robbin', 'meg', 'barrel', 'improvis', 'hypnot', 'elm', 'walsh', 'unrel', 'er', 'carla', 'indiffer', 'drift', 'julian', 'mormon', 'degrad', 'nicol', 'belushi', 'simmon', 'millionair', 'predat', 'othello', 'meyer', 'firm', 'warmth', 'enthusiasm', 'edgi', 'rukh', 'unawar', 'hay', 'dolph', 'alison', 'watson', 'palac', 'reid', 'greed', 'disord', 'agenda', 'roof', '3d', 'nyc', 'exquisit', 'marion', 'novak', 'priceless', 'mtv', 'alarm', 'vital', 'shove', 'lampoon', 'errol', 'petti', 'eastern', 'showdown', 'profit', 'gestur', 'crown', 'minimum', 'preserv', 'iraq', 'glanc', 'spain', 'session', 'beatl', 'simultan', 'peril', 'angela', 'thompson', 'pamela', 'unleash', 'testament', 'randomli', 'sergeant', 'coup', 'campaign', 'what', 'distort', 'championship', 'drip', '13th', 'cassidi', 'nun', 'israel', '1933', 'ponder', 'orlean', 'peck', 'valentin', 'zizek', 'empathi', 'stake', 'crow', 'mon', '1984', 'shootout', 'cream', 'contradict', 'stroke', 'realm', 'travesti', 'regist', 'calib', 'gentleman', 'represent', 'reson', 'wig', 'kurosawa', 'unimagin', 'climat', 'valley', 'restrain', 'crawl', 'scotland', 'perpetu', 'quinn', 'rout', 'cooki', 'exposit', 'buster', 'han', 'miyazaki', 'sabrina', 'din', 'brenda', 'fido', 'bro', 'jan', 'demis', 'pretens', 'traumat', 'wax', 'delic', 'cloud', '1997', 'abomin', 'monoton', 'mclaglen', 'meryl', 'painter', 'greg', 'geek', '1987', 'sucker', 'stargat', 'passabl', 'censor', 'unsatisfi', 'shoddi', 'femm', 'tacki', 'unseen', 'businessman', 'compromis', 'baldwin', 'derang', 'crawford', 'ross', 'perceiv', 'ustinov', 'warrant', 'dana', 'distress', 'shaki', 'josh', 'pole', 'darren', 'fuller', 'absent', 'soderbergh', 'sammi', 'spacey', 'furiou', 'jewel', 'clash', 'click', 'expedit', 'reluct', 'accuraci', 'deniro', 'verbal', 'uncov', 'kumar', 'polici', 'nathan', 'dee', 'primit', 'anchor', 'seal', '1993', 'valid', 'norm', 'fog', 'deceas', 'austin', 'antonioni', 'correctli', 'tech', 'unravel', 'judgment', 'wholli', 'fenc', 'tarantino', 'sid', 'exclus', 'wretch', 'patienc', 'fart', 'pocket', 'behold', 'dreck', 'sustain', 'logan', 'fought', 'conduct', 'crippl', 'sunni', 'murray', '3000', 'alec', 'ritual', 'mode', 'vanc', 'hallucin', 'temper', 'seldom', 'clerk', '2008', 'nicola', 'roller', 'fabric', 'darn', 'enforc', 'slam', 'debt', 'bake', 'sand', 'tax', 'joel', 'wang', 'trait', 'unfair', '1971', 'malon', '1995', 'sheet', 'shanghai', 'sweep', 'squad', 'phil', 'fundament', 'scriptwrit', 'canyon', 'runner', 'stark', 'shell', 'pete', 'tactic', 'critiqu', 'grief', 'bias', 'rita', 'isabel', 'soup', 'preposter', 'divid', 'robber', 'preston', 'despis', 'penni', 'bridget', 'stuart', 'technicolor', 'outlin', 'schedul', 'conscious', 'clau', 'guitar', 'legaci', 'helpless', 'exhaust', 'unexpectedli', 'gregori', 'rehash', 'kansa', 'propos', 'agenc', 'passag', 'jacket', 'alicia', 'drove', 'inabl', 'newman', 'connor', 'vomit', 'delv', 'restrict', 'invad', 'sniper', 'rear', 'boyl', 'lacklust', 'cigarett', 'jodi', 'russia', 'downey', 'alley', 'culmin', 'marc', 'sentinel', 'consciou', 'flair', 'sugar', 'bloom', 'palanc', 'liberti', 'implic', 'behaviour', 'lush', 'cap', 'awhil', 'chainsaw', 'foxx', 'vet', 'arrow', '1936', 'asylum', 'rampag', 'delet', 'rod', 'aesthet', '22', 'sharon', 'ladder', 'horn', 'pale', 'rehears', 'karl', 'wrench', 'improb', 'mccoy', 'tendenc', 'yeti', 'bacon', 'feat', 'tripe', 'kolchak', 'newcom', 'minu', 'prank', 'conscienc', 'basing', 'hulk', 'weav', 'rhythm', 'globe', 'fright', 'suspicion', '1978', 'el', 'tasteless', 'aristocrat', 'financ', 'sung', '19th', 'visitor', 'tomorrow', '1988', 'underneath', 'hackney', 'coaster', '1920', 'filler', 'stream', 'suffici', 'lurk', 'paramount', 'shortcom', 'wagner', 'rumor', 'amazon', 'spice', 'loneli', 'wildli', 'hungri', 'elit', 'scoop', 'paradis', 'thunderbird', 'entranc', 'penn', 'bread', 'curli', 'choppi', 'straightforward', 'smell', 'atroc', 'dirt', 'teas', 'quietli', 'cancer', 'chamberlain', 'iv', 'leigh', 'recogniz', 'literari', 'naughti', 'immers', 'hopkin', '1989', 'impos', 'counterpart', '75', 'springer', 'minist', 'en', 'paxton', 'brit', 'secondari', 'posey', 'couch', 'lectur', 'inmat', 'standout', 'abrupt', 'rub', 'tierney', 'beverli', '1939', 'chavez', 'ingeni', 'heist', 'worship', 'ram', 'grudg', 'wwe', 'geni', 'misguid', 'heartfelt', 'nolan', 'morbid', 'duel', '1986', 'yearn', 'injuri', 'quaid', 'enthral', 'entitl', 'net', 'clan', 'sublim', 'lindsay', 'transcend', 'policeman', 'laurenc', 'attenborough', 'sassi', 'cattl', 'ace', 'bernard', 'variat', 'nemesi', 'moreov', 'missil', 'convert', 'watcher', 'ratso', 'skeptic', 'esther', 'diari', 'egg', 'spiral', 'tyler', 'obstacl', 'grin', 'youngest', 'enabl', 'moder', 'bean', 'artsi', 'rosemari', 'kitti', 'steadi', 'hopelessli', 'brood', 'unexplain', 'buzz', '1979', 'dont', 'poe', 'cruelti', 'reliabl', 'mytholog', 'facil', 'out', 'setup', 'vader', 'graini', 'uncut', 'characteris', 'bye', 'hk', 'kidman', 'carlito', 'puppi', 'spontan', 'narrow', 'acquaint', 'clueless', 'decept', 'underworld', 'athlet', 'oblig', 'heap', '1969', 'bewar', 'hammi', 'disastr', 'gillian', 'brendan', 'gina', 'martha', 'effici', 'hain', 'exterior', 'kline', 'weather', 'niec', 'fuel', 'baffl', 'christin', 'preming', 'despic', 'sweat', 'patricia', 'bronson', 'bounc', 'harmless', 'tick', 'sooner', 'headach', 'injur', 'uh', 'taboo', 'mermaid', 'preachi', 'rome', 'goof', 'shatter', 'dandi', 'sleepwalk', 'biker', 'scar', 'astound', '19', 'renaiss', 'loath', 'loi', 'dilemma', 'suprem', 'insipid', 'housewif', '73', 'outlaw', 'hepburn', 'lester', 'enlist', 'analyz', 'virtu', 'mayhem', 'trigger', 'circu', 'viewpoint', 'candl', 'angst', 'fontain', 'glorifi', 'immatur', 'overlong', 'dish', 'boston', 'stair', 'dismal', 'fluff', 'phenomenon', 'sox', 'amor', 'macho', 'filth', 'steer', 'camcord', 'bent', 'hokey', 'intric', 'whore', 'surgeri', 'zoom', 'claustrophob', 'slimi', 'spade', 'idol', 'stimul', 'oldest', 'guin', 'hooker', 'ebert', 'foolish', 'redund', 'salt', 'contempt', 'scorses', 'cassavet', 'ariel', 'corbett', 'hostag', 'tripl', 'gere', 'conquer', 'nolt', 'messi', 'joker', 'cohen', 'proport', 'preced', 'astronaut', 'corman', 'margin', 'harold', 'strongest', 'fascist', 'spree', 'shred', 'muscl', 'down', 'cow', 'faint', 'flashi', 'obligatori', 'rhyme', 'transplant', 'spinal', '1981', 'beard', 'gasp', 'perman', 'keen', 'radiat', 'flag', 'mount', '1976', 'flirt', 'alvin', 'assert', 'dwarf', 'cush', 'mutual', 'gabl', 'frantic', 'zane', 'schlock', 'trivia', 'naschi', 'widescreen', 'antagonist', 'remad', 'shield', 'archiv', 'danish', 'bachelor', 'mobil', 'interestingli', 'someday', 'boob', 'fishburn', 'wield', 'resum', 'inflict', 'sensual', '95', 'info', 'strive', 'instruct', '28', 'triangl', 'barn', '1945', 'scandal', 'persuad', 'mol', 'divin', 'ritchi', 'brush', 'www', 'repris', 'departur', 'claud', 'off', 'deer', 'neurot', 'bitten', 'discern', 'raj', 'vaniti', 'flock', 'carey', 'aborigin', 'hara', 'biblic', 'cycl', 'hilar', 'ish', 'undermin', 'hug', 'recit', 'pixar', 'artwork', 'submit', 'traffic', 'bate', 'luka', 'pacif', 'carlo', 'mobster', 'frontier', 'helm', 'prophet', 'clad', 'cliffhang', 'fragil', 'harrison', 'heartwarm', 'cb', 'dame', 'earnest', 'dim', 'loretta', 'vibrant', 'axe', 'hapless', 'neill', 'pickford', 'colin', 'casino', 'rot', 'melissa', 'senior', 'parson', 'cher', 'jade', 'wendigo', 'europa', 'banter', 'proclaim', 'dylan', 'miracul', 'timberlak', 'kathryn', 'anton', 'antholog', 'illus', 'nope', 'electron', 'articl', 'venom', 'sicken', 'vile', 'breakfast', 'uma', 'lucil', 'redneck', 'lui', 'trier', 'alexandr', 'rooki', 'aris', 'seedi', 'wardrob', 'northern', 'misfortun', 'vanessa', 'token', 'eli', 'holocaust', 'akin', 'orphan', 'jo', 'winchest', 'legitim', 'estrang', 'choke', 'cerebr', 'bikini', 'isra', 'flavor', 'toronto', 'marlon', 'jordan', 'mason', 'pc', 'shepherd', 'foil', 'static', 'bondag', 'feast', 'http', 'razor', 'milo', 'blatantli', 'mathieu', 'abund', 'smack', 'disregard', 'audrey', 'oppon', 'linear', 'peer', 'turd', 'leather', 'psych', 'frog', 'cartoonish', 'ceremoni', 'nightclub', 'comprehend', 'tack', 'charlton', 'huston', 'fifth', 'retriev', 'swept', 'dudley', 'shorter', 'knightley', 'highway', 'glare', 'outdat', 'clinic', 'boyer', 'howl', 'gilbert', 'styliz', 'affleck', 'gunga', 'magician', 'deem', 'ideolog', 'feminin', 'wrestler', 'conrad', 'greet', '1991', '4th', 'monument', 'snatch', '1994', 'durat', 'btw', 'lifeless', 'sleaz', 'cemeteri', 'deliver', 'breakdown', 'spine', 'chip', 'potter', 'uniformli', 'cuban', 'bogu', 'newer', 'compris', 'evolut', 'client', 'einstein', 'senat', 'braveheart', 'tara', 'spawn', 'plate', 'summar', 'moe', 'energet', 'bastard', 'phenomen', 'toe', 'boo', 'collector', 'goldsworthi', 'whack', 'salman', 'mitch', 'lighter', 'lavish', 'corn', 'neatli', 'bulk', 'undead', 'embark', 'judd', 'capot', 'pronounc', 'wtf', 'alleg', 'signal', 'spectacl', 'bori', '1977', 'cecil', 'trauma', 'healthi', 'jam', 'clara', 'appl', 'constitut', 'kent', 'lex', 'liu', 'randolph', 'belli', '1974', 'eleven', 'outright', 'creek', 'ie', 'nina', 'fluid', 'occup', 'undertak', 'mcqueen', 'firmli', 'armstrong', 'inaccuraci', 'luxuri', 'replay', 'jedi', 'ol', 'kazan', 'jare', 'historian', 'evelyn', 'sorrow', 'jule', 'gilliam', 'fruit', 'goldblum', 'truman', 'rosario', 'congratul', 'knee', 'blur', 'inclus', 'tokyo', 'ash', 'palm', 'relentless', 'abound', 'unattract', 'curtain', 'antonio', 'carmen', '1985', 'groan', 'forgiven', 'bait', 'id', 'unsuspect', 'propheci', 'pepper', 'meal', 'paula', 'roar', 'pioneer', 'vain', 'decapit', 'basket', 'poker', 'aussi', 'cape', 'miniseri', 'mum', 'lanc', 'sacrif', 'comprehens', 'miami', 'walt', 'genet', 'kiddi', 'inaccur', 'conan', 'sidewalk', 'galaxi', 'lauren', 'vignett', 'bsg', 'comb', 'porter', 'subtli', 'spray', 'motorcycl', 'hostil', 'dubiou', 'rapidli', 'monti', 'growth', 'optimist', 'victorian', 'scariest', 'profil', 'turtl', 'jill', 'drone', 'substanti', 'assort', 'orchestr', 'bravo', '21st', 'masterson', 'weaker', 'incorrect', 'sparkl', 'verg', 'weari', 'hackman', 'frontal', 'modest', 'evan', 'ingrid', 'vastli', 'cypher', 'epitom', 'asset', 'bach', 'playboy', 'mice'])"
      ]
     },
     "execution_count": 15,
     "metadata": {},
     "output_type": "execute_result"
    }
   ],
   "source": [
    "word_dict.keys()"
   ]
  },
  {
   "cell_type": "markdown",
   "metadata": {},
   "source": [
    "**Question:** What are the five most frequently appearing (tokenized) words in the training set? Does it makes sense that these words appear frequently in the training set?"
   ]
  },
  {
   "cell_type": "markdown",
   "metadata": {},
   "source": [
    "**Answer:**\n",
    "The five most frequently appearing words are:\n",
    "    - movi\n",
    "    - film\n",
    "    - one\n",
    "    - like\n",
    "    - time\n",
    "    \n",
    "- Since the dataset is of movie reviews, words like 'movie', 'film' surely appear many times. \n",
    "- 'like' maybe used to compare movies with movies, or situation. Example '...just like life'"
   ]
  },
  {
   "cell_type": "code",
   "execution_count": 16,
   "metadata": {},
   "outputs": [
    {
     "data": {
      "text/plain": [
       "['movi', 'film', 'one', 'like', 'time']"
      ]
     },
     "execution_count": 16,
     "metadata": {},
     "output_type": "execute_result"
    }
   ],
   "source": [
    "# TODO: Use this space to determine the five most frequently appearing words in the training set.\n",
    "list(word_dict.keys())[0:5]"
   ]
  },
  {
   "cell_type": "markdown",
   "metadata": {},
   "source": [
    "### Save `word_dict`\n",
    "\n",
    "Later on when we construct an endpoint which processes a submitted review we will need to make use of the `word_dict` which we have created. As such, we will save it to a file now for future use."
   ]
  },
  {
   "cell_type": "code",
   "execution_count": 17,
   "metadata": {},
   "outputs": [],
   "source": [
    "data_dir = '../data/pytorch' # The folder we will use for storing data\n",
    "if not os.path.exists(data_dir): # Make sure that the folder exists\n",
    "    os.makedirs(data_dir)"
   ]
  },
  {
   "cell_type": "code",
   "execution_count": 18,
   "metadata": {},
   "outputs": [],
   "source": [
    "with open(os.path.join(data_dir, 'word_dict.pkl'), \"wb\") as f:\n",
    "    pickle.dump(word_dict, f)"
   ]
  },
  {
   "cell_type": "markdown",
   "metadata": {},
   "source": [
    "### Transform the reviews\n",
    "\n",
    "Now that we have our word dictionary which allows us to transform the words appearing in the reviews into integers, it is time to make use of it and convert our reviews to their integer sequence representation, making sure to pad or truncate to a fixed length, which in our case is `500`."
   ]
  },
  {
   "cell_type": "code",
   "execution_count": 19,
   "metadata": {},
   "outputs": [],
   "source": [
    "def convert_and_pad(word_dict, sentence, pad=500):\n",
    "    NOWORD = 0 # We will use 0 to represent the 'no word' category\n",
    "    INFREQ = 1 # and we use 1 to represent the infrequent words, i.e., words not appearing in word_dict\n",
    "    \n",
    "    working_sentence = [NOWORD] * pad\n",
    "    \n",
    "    for word_index, word in enumerate(sentence[:pad]):\n",
    "        if word in word_dict:\n",
    "            working_sentence[word_index] = word_dict[word]\n",
    "        else:\n",
    "            working_sentence[word_index] = INFREQ\n",
    "            \n",
    "    return working_sentence, min(len(sentence), pad)\n",
    "\n",
    "def convert_and_pad_data(word_dict, data, pad=500):\n",
    "    result = []\n",
    "    lengths = []\n",
    "    \n",
    "    for sentence in data:\n",
    "        converted, leng = convert_and_pad(word_dict, sentence, pad)\n",
    "        result.append(converted)\n",
    "        lengths.append(leng)\n",
    "        \n",
    "    return np.array(result), np.array(lengths)"
   ]
  },
  {
   "cell_type": "code",
   "execution_count": 20,
   "metadata": {},
   "outputs": [],
   "source": [
    "train_X, train_X_len = convert_and_pad_data(word_dict, train_X)\n",
    "test_X, test_X_len = convert_and_pad_data(word_dict, test_X)"
   ]
  },
  {
   "cell_type": "markdown",
   "metadata": {},
   "source": [
    "As a quick check to make sure that things are working as intended, check to see what one of the reviews in the training set looks like after having been processeed. Does this look reasonable? What is the length of a review in the training set?"
   ]
  },
  {
   "cell_type": "code",
   "execution_count": 21,
   "metadata": {},
   "outputs": [
    {
     "data": {
      "text/plain": [
       "array([ 844, 3246,  819,    1,  197,  261,  139,  491,  643,  154,    9,\n",
       "        286,  366,  844, 3246,  990,   13,   26,  882,  545, 2520,  285,\n",
       "       1398, 2084,  122,  168, 2059,  120, 3207, 3675, 2625,  161,   53,\n",
       "         56,   70, 1298,  750,  322,  154,  844, 1233,  773, 3708,  107,\n",
       "        172,  576,  322,   30, 3207, 3675,    1,   34,  113,   27,  844,\n",
       "        519,  657, 2625, 1949, 1671,  381,    1,   30,    1, 3439,   89,\n",
       "        366,   38,   30, 1949,   43,   33, 2625,  122,   20,   97,    9,\n",
       "         55, 2599,  313,   29,  419,   42,  177, 3877,   35,   13, 1173,\n",
       "       1343,  197, 2364,   10,  113, 2562,  197,    1, 1465,  322,    1,\n",
       "         44, 1392,    1,    7,  780,  311,  657, 1353,  146,  234,  120,\n",
       "         12, 2562,  197,  311,  197, 3207, 3675,    1, 1704,   53, 3646,\n",
       "          1,  338, 4026, 1227,  272,   13,    1,   40, 4971,   13,    1,\n",
       "       3378, 1797,  945,    9,  197,  222,   73,    1, 1704, 2087,  149,\n",
       "       2650, 2625,  491, 3207, 3675,   71, 1255,  356,   43,  995,   18,\n",
       "          1,   41,  766,  261, 1227,   18,  219, 1583,  643,    8,   86,\n",
       "       1877,  215,  205,  844, 3246,  123,    0,    0,    0,    0,    0,\n",
       "          0,    0,    0,    0,    0,    0,    0,    0,    0,    0,    0,\n",
       "          0,    0,    0,    0,    0,    0,    0,    0,    0,    0,    0,\n",
       "          0,    0,    0,    0,    0,    0,    0,    0,    0,    0,    0,\n",
       "          0,    0,    0,    0,    0,    0,    0,    0,    0,    0,    0,\n",
       "          0,    0,    0,    0,    0,    0,    0,    0,    0,    0,    0,\n",
       "          0,    0,    0,    0,    0,    0,    0,    0,    0,    0,    0,\n",
       "          0,    0,    0,    0,    0,    0,    0,    0,    0,    0,    0,\n",
       "          0,    0,    0,    0,    0,    0,    0,    0,    0,    0,    0,\n",
       "          0,    0,    0,    0,    0,    0,    0,    0,    0,    0,    0,\n",
       "          0,    0,    0,    0,    0,    0,    0,    0,    0,    0,    0,\n",
       "          0,    0,    0,    0,    0,    0,    0,    0,    0,    0,    0,\n",
       "          0,    0,    0,    0,    0,    0,    0,    0,    0,    0,    0,\n",
       "          0,    0,    0,    0,    0,    0,    0,    0,    0,    0,    0,\n",
       "          0,    0,    0,    0,    0,    0,    0,    0,    0,    0,    0,\n",
       "          0,    0,    0,    0,    0,    0,    0,    0,    0,    0,    0,\n",
       "          0,    0,    0,    0,    0,    0,    0,    0,    0,    0,    0,\n",
       "          0,    0,    0,    0,    0,    0,    0,    0,    0,    0,    0,\n",
       "          0,    0,    0,    0,    0,    0,    0,    0,    0,    0,    0,\n",
       "          0,    0,    0,    0,    0,    0,    0,    0,    0,    0,    0,\n",
       "          0,    0,    0,    0,    0,    0,    0,    0,    0,    0,    0,\n",
       "          0,    0,    0,    0,    0,    0,    0,    0,    0,    0,    0,\n",
       "          0,    0,    0,    0,    0,    0,    0,    0,    0,    0,    0,\n",
       "          0,    0,    0,    0,    0,    0,    0,    0,    0,    0,    0,\n",
       "          0,    0,    0,    0,    0,    0,    0,    0,    0,    0,    0,\n",
       "          0,    0,    0,    0,    0,    0,    0,    0,    0,    0,    0,\n",
       "          0,    0,    0,    0,    0,    0,    0,    0,    0,    0,    0,\n",
       "          0,    0,    0,    0,    0,    0,    0,    0,    0,    0,    0,\n",
       "          0,    0,    0,    0,    0,    0,    0,    0,    0,    0,    0,\n",
       "          0,    0,    0,    0,    0,    0,    0,    0,    0,    0,    0,\n",
       "          0,    0,    0,    0,    0])"
      ]
     },
     "execution_count": 21,
     "metadata": {},
     "output_type": "execute_result"
    }
   ],
   "source": [
    "# Use this cell to examine one of the processed reviews to make sure everything is working as intended.\n",
    "train_X[100]"
   ]
  },
  {
   "cell_type": "markdown",
   "metadata": {},
   "source": [
    "**Question:** In the cells above we use the `preprocess_data` and `convert_and_pad_data` methods to process both the training and testing set. Why or why not might this be a problem?"
   ]
  },
  {
   "cell_type": "markdown",
   "metadata": {},
   "source": [
    "**Answer:**\n",
    "- Preprocessing ensures integer representation of texts, because any machine learning model will only understand numbers, not letters.\n",
    "- Padding ensures that all entries are of same length (here 500) to ensure symmetry in the dataset while model takes input.\n",
    "- Like other machine learning projects, there can be a problem if the preprocessing is differnet for training and testing data. Otherwise, the representations of the datasets can be different."
   ]
  },
  {
   "cell_type": "markdown",
   "metadata": {},
   "source": [
    "## Step 3: Upload the data to S3\n",
    "\n",
    "As in the XGBoost notebook, we will need to upload the training dataset to S3 in order for our training code to access it. For now we will save it locally and we will upload to S3 later on.\n",
    "\n",
    "### Save the processed training dataset locally\n",
    "\n",
    "It is important to note the format of the data that we are saving as we will need to know it when we write the training code. In our case, each row of the dataset has the form `label`, `length`, `review[500]` where `review[500]` is a sequence of `500` integers representing the words in the review."
   ]
  },
  {
   "cell_type": "code",
   "execution_count": 22,
   "metadata": {},
   "outputs": [],
   "source": [
    "import pandas as pd\n",
    "    \n",
    "pd.concat([pd.DataFrame(train_y), pd.DataFrame(train_X_len), pd.DataFrame(train_X)], axis=1) \\\n",
    "        .to_csv(os.path.join(data_dir, 'train.csv'), header=False, index=False)"
   ]
  },
  {
   "cell_type": "markdown",
   "metadata": {},
   "source": [
    "### Uploading the training data\n",
    "\n",
    "\n",
    "Next, we need to upload the training data to the SageMaker default S3 bucket so that we can provide access to it while training our model."
   ]
  },
  {
   "cell_type": "code",
   "execution_count": 23,
   "metadata": {},
   "outputs": [],
   "source": [
    "import sagemaker\n",
    "\n",
    "sagemaker_session = sagemaker.Session()\n",
    "\n",
    "bucket = sagemaker_session.default_bucket()\n",
    "prefix = 'sagemaker/sentiment_rnn'\n",
    "\n",
    "role = sagemaker.get_execution_role()"
   ]
  },
  {
   "cell_type": "code",
   "execution_count": 24,
   "metadata": {},
   "outputs": [],
   "source": [
    "input_data = sagemaker_session.upload_data(path=data_dir, bucket=bucket, key_prefix=prefix)"
   ]
  },
  {
   "cell_type": "markdown",
   "metadata": {},
   "source": [
    "**NOTE:** The cell above uploads the entire contents of our data directory. This includes the `word_dict.pkl` file. This is fortunate as we will need this later on when we create an endpoint that accepts an arbitrary review. For now, we will just take note of the fact that it resides in the data directory (and so also in the S3 training bucket) and that we will need to make sure it gets saved in the model directory."
   ]
  },
  {
   "cell_type": "markdown",
   "metadata": {},
   "source": [
    "## Step 4: Build and Train the PyTorch Model\n",
    "\n",
    "In the XGBoost notebook we discussed what a model is in the SageMaker framework. In particular, a model comprises three objects\n",
    "\n",
    " - Model Artifacts,\n",
    " - Training Code, and\n",
    " - Inference Code,\n",
    " \n",
    "each of which interact with one another. In the XGBoost example we used training and inference code that was provided by Amazon. Here we will still be using containers provided by Amazon with the added benefit of being able to include our own custom code.\n",
    "\n",
    "We will start by implementing our own neural network in PyTorch along with a training script. For the purposes of this project we have provided the necessary model object in the `model.py` file, inside of the `train` folder. You can see the provided implementation by running the cell below."
   ]
  },
  {
   "cell_type": "code",
   "execution_count": 25,
   "metadata": {},
   "outputs": [
    {
     "name": "stdout",
     "output_type": "stream",
     "text": [
      "\u001b[34mimport\u001b[39;49;00m \u001b[04m\u001b[36mtorch.nn\u001b[39;49;00m \u001b[34mas\u001b[39;49;00m \u001b[04m\u001b[36mnn\u001b[39;49;00m\r\n",
      "\r\n",
      "\u001b[34mclass\u001b[39;49;00m \u001b[04m\u001b[32mLSTMClassifier\u001b[39;49;00m(nn.Module):\r\n",
      "    \u001b[33m\"\"\"\u001b[39;49;00m\r\n",
      "\u001b[33m    This is the simple RNN model we will be using to perform Sentiment Analysis.\u001b[39;49;00m\r\n",
      "\u001b[33m    \"\"\"\u001b[39;49;00m\r\n",
      "\r\n",
      "    \u001b[34mdef\u001b[39;49;00m \u001b[32m__init__\u001b[39;49;00m(\u001b[36mself\u001b[39;49;00m, embedding_dim, hidden_dim, vocab_size):\r\n",
      "        \u001b[33m\"\"\"\u001b[39;49;00m\r\n",
      "\u001b[33m        Initialize the model by settingg up the various layers.\u001b[39;49;00m\r\n",
      "\u001b[33m        \"\"\"\u001b[39;49;00m\r\n",
      "        \u001b[36msuper\u001b[39;49;00m(LSTMClassifier, \u001b[36mself\u001b[39;49;00m).\u001b[32m__init__\u001b[39;49;00m()\r\n",
      "\r\n",
      "        \u001b[36mself\u001b[39;49;00m.embedding = nn.Embedding(vocab_size, embedding_dim, padding_idx=\u001b[34m0\u001b[39;49;00m)\r\n",
      "        \u001b[36mself\u001b[39;49;00m.lstm = nn.LSTM(embedding_dim, hidden_dim)\r\n",
      "        \u001b[36mself\u001b[39;49;00m.dense = nn.Linear(in_features=hidden_dim, out_features=\u001b[34m1\u001b[39;49;00m)\r\n",
      "        \u001b[36mself\u001b[39;49;00m.sig = nn.Sigmoid()\r\n",
      "        \r\n",
      "        \u001b[36mself\u001b[39;49;00m.word_dict = \u001b[36mNone\u001b[39;49;00m\r\n",
      "\r\n",
      "    \u001b[34mdef\u001b[39;49;00m \u001b[32mforward\u001b[39;49;00m(\u001b[36mself\u001b[39;49;00m, x):\r\n",
      "        \u001b[33m\"\"\"\u001b[39;49;00m\r\n",
      "\u001b[33m        Perform a forward pass of our model on some input.\u001b[39;49;00m\r\n",
      "\u001b[33m        \"\"\"\u001b[39;49;00m\r\n",
      "        x = x.t()\r\n",
      "        lengths = x[\u001b[34m0\u001b[39;49;00m,:]\r\n",
      "        reviews = x[\u001b[34m1\u001b[39;49;00m:,:]\r\n",
      "        embeds = \u001b[36mself\u001b[39;49;00m.embedding(reviews)\r\n",
      "        lstm_out, _ = \u001b[36mself\u001b[39;49;00m.lstm(embeds)\r\n",
      "        out = \u001b[36mself\u001b[39;49;00m.dense(lstm_out)\r\n",
      "        out = out[lengths - \u001b[34m1\u001b[39;49;00m, \u001b[36mrange\u001b[39;49;00m(\u001b[36mlen\u001b[39;49;00m(lengths))]\r\n",
      "        \u001b[34mreturn\u001b[39;49;00m \u001b[36mself\u001b[39;49;00m.sig(out.squeeze())\r\n"
     ]
    }
   ],
   "source": [
    "!pygmentize train/model.py"
   ]
  },
  {
   "cell_type": "markdown",
   "metadata": {},
   "source": [
    "The important takeaway from the implementation provided is that there are three parameters that we may wish to tweak to improve the performance of our model. These are the embedding dimension, the hidden dimension and the size of the vocabulary. We will likely want to make these parameters configurable in the training script so that if we wish to modify them we do not need to modify the script itself. We will see how to do this later on. To start we will write some of the training code in the notebook so that we can more easily diagnose any issues that arise.\n",
    "\n",
    "First we will load a small portion of the training data set to use as a sample. It would be very time consuming to try and train the model completely in the notebook as we do not have access to a gpu and the compute instance that we are using is not particularly powerful. However, we can work on a small bit of the data to get a feel for how our training script is behaving."
   ]
  },
  {
   "cell_type": "code",
   "execution_count": 26,
   "metadata": {},
   "outputs": [],
   "source": [
    "import torch\n",
    "import torch.utils.data\n",
    "\n",
    "# Read in only the first 250 rows\n",
    "train_sample = pd.read_csv(os.path.join(data_dir, 'train.csv'), header=None, names=None, nrows=250)\n",
    "\n",
    "# Turn the input pandas dataframe into tensors\n",
    "train_sample_y = torch.from_numpy(train_sample[[0]].values).float().squeeze()\n",
    "train_sample_X = torch.from_numpy(train_sample.drop([0], axis=1).values).long()\n",
    "\n",
    "# Build the dataset\n",
    "train_sample_ds = torch.utils.data.TensorDataset(train_sample_X, train_sample_y)\n",
    "# Build the dataloader\n",
    "train_sample_dl = torch.utils.data.DataLoader(train_sample_ds, batch_size=50)"
   ]
  },
  {
   "cell_type": "markdown",
   "metadata": {},
   "source": [
    "### (TODO) Writing the training method\n",
    "\n",
    "Next we need to write the training code itself. This should be very similar to training methods that you have written before to train PyTorch models. We will leave any difficult aspects such as model saving / loading and parameter loading until a little later."
   ]
  },
  {
   "cell_type": "code",
   "execution_count": 27,
   "metadata": {},
   "outputs": [],
   "source": [
    "def train(model, train_loader, epochs, optimizer, loss_fn, device):\n",
    "    for epoch in range(1, epochs + 1):\n",
    "        model.train()\n",
    "        total_loss = 0\n",
    "        for batch in train_loader:         \n",
    "            batch_X, batch_y = batch\n",
    "            \n",
    "            batch_X = batch_X.to(device)\n",
    "            batch_y = batch_y.to(device)\n",
    "            \n",
    "            # TODO: Complete this train method to train the model provided.\n",
    "            optimizer.zero_grad()\n",
    "            out = model.forward(batch_X)\n",
    "            loss = loss_fn(out, batch_y)\n",
    "            loss.backward()\n",
    "            optimizer.step()\n",
    "            \n",
    "            total_loss += loss.data.item()\n",
    "        print(\"Epoch: {}, BCELoss: {}\".format(epoch, total_loss / len(train_loader)))"
   ]
  },
  {
   "cell_type": "markdown",
   "metadata": {},
   "source": [
    "Supposing we have the training method above, we will test that it is working by writing a bit of code in the notebook that executes our training method on the small sample training set that we loaded earlier. The reason for doing this in the notebook is so that we have an opportunity to fix any errors that arise early when they are easier to diagnose."
   ]
  },
  {
   "cell_type": "code",
   "execution_count": 28,
   "metadata": {},
   "outputs": [
    {
     "name": "stdout",
     "output_type": "stream",
     "text": [
      "Epoch: 1, BCELoss: 0.6953817844390869\n",
      "Epoch: 2, BCELoss: 0.6856160044670105\n",
      "Epoch: 3, BCELoss: 0.6770119547843934\n",
      "Epoch: 4, BCELoss: 0.6672114729881287\n",
      "Epoch: 5, BCELoss: 0.6548530340194703\n"
     ]
    }
   ],
   "source": [
    "import torch.optim as optim\n",
    "from train.model import LSTMClassifier\n",
    "\n",
    "device = torch.device(\"cuda\" if torch.cuda.is_available() else \"cpu\")\n",
    "model = LSTMClassifier(32, 100, 5000).to(device)\n",
    "optimizer = optim.Adam(model.parameters())\n",
    "loss_fn = torch.nn.BCELoss()\n",
    "\n",
    "train(model, train_sample_dl, 5, optimizer, loss_fn, device)"
   ]
  },
  {
   "cell_type": "markdown",
   "metadata": {},
   "source": [
    "In order to construct a PyTorch model using SageMaker we must provide SageMaker with a training script. We may optionally include a directory which will be copied to the container and from which our training code will be run. When the training container is executed it will check the uploaded directory (if there is one) for a `requirements.txt` file and install any required Python libraries, after which the training script will be run."
   ]
  },
  {
   "cell_type": "markdown",
   "metadata": {},
   "source": [
    "### (TODO) Training the model\n",
    "\n",
    "When a PyTorch model is constructed in SageMaker, an entry point must be specified. This is the Python file which will be executed when the model is trained. Inside of the `train` directory is a file called `train.py` which has been provided and which contains most of the necessary code to train our model. The only thing that is missing is the implementation of the `train()` method which you wrote earlier in this notebook.\n",
    "\n",
    "**TODO**: Copy the `train()` method written above and paste it into the `train/train.py` file where required.\n",
    "\n",
    "The way that SageMaker passes hyperparameters to the training script is by way of arguments. These arguments can then be parsed and used in the training script. To see how this is done take a look at the provided `train/train.py` file."
   ]
  },
  {
   "cell_type": "code",
   "execution_count": 51,
   "metadata": {},
   "outputs": [],
   "source": [
    "from sagemaker.pytorch import PyTorch\n",
    "\n",
    "estimator = PyTorch(entry_point=\"train.py\",\n",
    "                    source_dir=\"train\",\n",
    "                    role=role,\n",
    "                    framework_version='0.4.0',\n",
    "                    train_instance_count=1,\n",
    "                    train_instance_type='ml.m4.xlarge',\n",
    "                    hyperparameters={\n",
    "                        'epochs': 10,\n",
    "                        'hidden_dim': 200,\n",
    "                        #'epochs': 10,\n",
    "                        #'hidden_dim': 200,\n",
    "                    })"
   ]
  },
  {
   "cell_type": "code",
   "execution_count": 52,
   "metadata": {},
   "outputs": [
    {
     "name": "stdout",
     "output_type": "stream",
     "text": [
      "2020-01-03 19:47:44 Starting - Starting the training job...\n",
      "2020-01-03 19:47:46 Starting - Launching requested ML instances...\n",
      "2020-01-03 19:48:43 Starting - Preparing the instances for training......\n",
      "2020-01-03 19:49:42 Downloading - Downloading input data...\n",
      "2020-01-03 19:50:09 Training - Downloading the training image...\n",
      "2020-01-03 19:50:28 Training - Training image download completed. Training in progress.\u001b[34mbash: cannot set terminal process group (-1): Inappropriate ioctl for device\u001b[0m\n",
      "\u001b[34mbash: no job control in this shell\u001b[0m\n",
      "\u001b[34m2020-01-03 19:50:28,724 sagemaker-containers INFO     Imported framework sagemaker_pytorch_container.training\u001b[0m\n",
      "\u001b[34m2020-01-03 19:50:28,726 sagemaker-containers INFO     No GPUs detected (normal if no gpus installed)\u001b[0m\n",
      "\u001b[34m2020-01-03 19:50:28,739 sagemaker_pytorch_container.training INFO     Block until all host DNS lookups succeed.\u001b[0m\n",
      "\u001b[34m2020-01-03 19:50:28,742 sagemaker_pytorch_container.training INFO     Invoking user training script.\u001b[0m\n",
      "\u001b[34m2020-01-03 19:50:28,956 sagemaker-containers INFO     Module train does not provide a setup.py. \u001b[0m\n",
      "\u001b[34mGenerating setup.py\u001b[0m\n",
      "\u001b[34m2020-01-03 19:50:28,957 sagemaker-containers INFO     Generating setup.cfg\u001b[0m\n",
      "\u001b[34m2020-01-03 19:50:28,957 sagemaker-containers INFO     Generating MANIFEST.in\u001b[0m\n",
      "\u001b[34m2020-01-03 19:50:28,957 sagemaker-containers INFO     Installing module with the following command:\u001b[0m\n",
      "\u001b[34m/usr/bin/python -m pip install -U . -r requirements.txt\u001b[0m\n",
      "\u001b[34mProcessing /opt/ml/code\u001b[0m\n",
      "\u001b[34mCollecting pandas (from -r requirements.txt (line 1))\n",
      "  Downloading https://files.pythonhosted.org/packages/74/24/0cdbf8907e1e3bc5a8da03345c23cbed7044330bb8f73bb12e711a640a00/pandas-0.24.2-cp35-cp35m-manylinux1_x86_64.whl (10.0MB)\u001b[0m\n",
      "\u001b[34mCollecting numpy (from -r requirements.txt (line 2))\n",
      "  Downloading https://files.pythonhosted.org/packages/eb/ec/d4b7855249ce87ece79783562dd6101b1f0abf461c25101c2e959d691e68/numpy-1.18.0-cp35-cp35m-manylinux1_x86_64.whl (19.9MB)\u001b[0m\n",
      "\u001b[34mCollecting nltk (from -r requirements.txt (line 3))\n",
      "  Downloading https://files.pythonhosted.org/packages/f6/1d/d925cfb4f324ede997f6d47bea4d9babba51b49e87a767c170b77005889d/nltk-3.4.5.zip (1.5MB)\u001b[0m\n",
      "\u001b[34mCollecting beautifulsoup4 (from -r requirements.txt (line 4))\n",
      "  Downloading https://files.pythonhosted.org/packages/cb/a1/c698cf319e9cfed6b17376281bd0efc6bfc8465698f54170ef60a485ab5d/beautifulsoup4-4.8.2-py3-none-any.whl (106kB)\u001b[0m\n",
      "\u001b[34mCollecting html5lib (from -r requirements.txt (line 5))\n",
      "  Downloading https://files.pythonhosted.org/packages/a5/62/bbd2be0e7943ec8504b517e62bab011b4946e1258842bc159e5dfde15b96/html5lib-1.0.1-py2.py3-none-any.whl (117kB)\u001b[0m\n",
      "\u001b[34mRequirement already satisfied, skipping upgrade: python-dateutil>=2.5.0 in /usr/local/lib/python3.5/dist-packages (from pandas->-r requirements.txt (line 1)) (2.7.5)\u001b[0m\n",
      "\u001b[34mCollecting pytz>=2011k (from pandas->-r requirements.txt (line 1))\u001b[0m\n",
      "\u001b[34m  Downloading https://files.pythonhosted.org/packages/e7/f9/f0b53f88060247251bf481fa6ea62cd0d25bf1b11a87888e53ce5b7c8ad2/pytz-2019.3-py2.py3-none-any.whl (509kB)\u001b[0m\n",
      "\u001b[34mRequirement already satisfied, skipping upgrade: six in /usr/local/lib/python3.5/dist-packages (from nltk->-r requirements.txt (line 3)) (1.11.0)\u001b[0m\n",
      "\u001b[34mCollecting soupsieve>=1.2 (from beautifulsoup4->-r requirements.txt (line 4))\n",
      "  Downloading https://files.pythonhosted.org/packages/81/94/03c0f04471fc245d08d0a99f7946ac228ca98da4fa75796c507f61e688c2/soupsieve-1.9.5-py2.py3-none-any.whl\u001b[0m\n",
      "\u001b[34mCollecting webencodings (from html5lib->-r requirements.txt (line 5))\n",
      "  Downloading https://files.pythonhosted.org/packages/f4/24/2a3e3df732393fed8b3ebf2ec078f05546de641fe1b667ee316ec1dcf3b7/webencodings-0.5.1-py2.py3-none-any.whl\u001b[0m\n",
      "\u001b[34mBuilding wheels for collected packages: nltk, train\n",
      "  Running setup.py bdist_wheel for nltk: started\u001b[0m\n",
      "\u001b[34m  Running setup.py bdist_wheel for nltk: finished with status 'done'\n",
      "  Stored in directory: /root/.cache/pip/wheels/96/86/f6/68ab24c23f207c0077381a5e3904b2815136b879538a24b483\n",
      "  Running setup.py bdist_wheel for train: started\n",
      "  Running setup.py bdist_wheel for train: finished with status 'done'\n",
      "  Stored in directory: /tmp/pip-ephem-wheel-cache-t4tyi6aw/wheels/35/24/16/37574d11bf9bde50616c67372a334f94fa8356bc7164af8ca3\u001b[0m\n",
      "\u001b[34mSuccessfully built nltk train\u001b[0m\n",
      "\u001b[34mInstalling collected packages: numpy, pytz, pandas, nltk, soupsieve, beautifulsoup4, webencodings, html5lib, train\n",
      "  Found existing installation: numpy 1.15.4\n",
      "    Uninstalling numpy-1.15.4:\u001b[0m\n",
      "\u001b[34m      Successfully uninstalled numpy-1.15.4\u001b[0m\n",
      "\u001b[34mSuccessfully installed beautifulsoup4-4.8.2 html5lib-1.0.1 nltk-3.4.5 numpy-1.18.0 pandas-0.24.2 pytz-2019.3 soupsieve-1.9.5 train-1.0.0 webencodings-0.5.1\u001b[0m\n",
      "\u001b[34mYou are using pip version 18.1, however version 19.3.1 is available.\u001b[0m\n",
      "\u001b[34mYou should consider upgrading via the 'pip install --upgrade pip' command.\u001b[0m\n",
      "\u001b[34m2020-01-03 19:50:41,128 sagemaker-containers INFO     No GPUs detected (normal if no gpus installed)\u001b[0m\n",
      "\u001b[34m2020-01-03 19:50:41,142 sagemaker-containers INFO     Invoking user script\n",
      "\u001b[0m\n",
      "\u001b[34mTraining Env:\n",
      "\u001b[0m\n",
      "\u001b[34m{\n",
      "    \"output_dir\": \"/opt/ml/output\",\n",
      "    \"network_interface_name\": \"eth0\",\n",
      "    \"additional_framework_parameters\": {},\n",
      "    \"channel_input_dirs\": {\n",
      "        \"training\": \"/opt/ml/input/data/training\"\n",
      "    },\n",
      "    \"user_entry_point\": \"train.py\",\n",
      "    \"num_cpus\": 4,\n",
      "    \"resource_config\": {\n",
      "        \"network_interface_name\": \"eth0\",\n",
      "        \"hosts\": [\n",
      "            \"algo-1\"\n",
      "        ],\n",
      "        \"current_host\": \"algo-1\"\n",
      "    },\n",
      "    \"input_data_config\": {\n",
      "        \"training\": {\n",
      "            \"RecordWrapperType\": \"None\",\n",
      "            \"S3DistributionType\": \"FullyReplicated\",\n",
      "            \"TrainingInputMode\": \"File\"\n",
      "        }\n",
      "    },\n",
      "    \"module_name\": \"train\",\n",
      "    \"model_dir\": \"/opt/ml/model\",\n",
      "    \"framework_module\": \"sagemaker_pytorch_container.training:main\",\n",
      "    \"job_name\": \"sagemaker-pytorch-2020-01-03-19-47-44-405\",\n",
      "    \"output_intermediate_dir\": \"/opt/ml/output/intermediate\",\n",
      "    \"hyperparameters\": {\n",
      "        \"epochs\": 10,\n",
      "        \"hidden_dim\": 200\n",
      "    },\n",
      "    \"input_config_dir\": \"/opt/ml/input/config\",\n",
      "    \"log_level\": 20,\n",
      "    \"module_dir\": \"s3://sagemaker-us-east-2-757052720620/sagemaker-pytorch-2020-01-03-19-47-44-405/source/sourcedir.tar.gz\",\n",
      "    \"output_data_dir\": \"/opt/ml/output/data\",\n",
      "    \"hosts\": [\n",
      "        \"algo-1\"\n",
      "    ],\n",
      "    \"num_gpus\": 0,\n",
      "    \"input_dir\": \"/opt/ml/input\",\n",
      "    \"current_host\": \"algo-1\"\u001b[0m\n",
      "\u001b[34m}\n",
      "\u001b[0m\n",
      "\u001b[34mEnvironment variables:\n",
      "\u001b[0m\n",
      "\u001b[34mSM_HOSTS=[\"algo-1\"]\u001b[0m\n",
      "\u001b[34mSM_TRAINING_ENV={\"additional_framework_parameters\":{},\"channel_input_dirs\":{\"training\":\"/opt/ml/input/data/training\"},\"current_host\":\"algo-1\",\"framework_module\":\"sagemaker_pytorch_container.training:main\",\"hosts\":[\"algo-1\"],\"hyperparameters\":{\"epochs\":10,\"hidden_dim\":200},\"input_config_dir\":\"/opt/ml/input/config\",\"input_data_config\":{\"training\":{\"RecordWrapperType\":\"None\",\"S3DistributionType\":\"FullyReplicated\",\"TrainingInputMode\":\"File\"}},\"input_dir\":\"/opt/ml/input\",\"job_name\":\"sagemaker-pytorch-2020-01-03-19-47-44-405\",\"log_level\":20,\"model_dir\":\"/opt/ml/model\",\"module_dir\":\"s3://sagemaker-us-east-2-757052720620/sagemaker-pytorch-2020-01-03-19-47-44-405/source/sourcedir.tar.gz\",\"module_name\":\"train\",\"network_interface_name\":\"eth0\",\"num_cpus\":4,\"num_gpus\":0,\"output_data_dir\":\"/opt/ml/output/data\",\"output_dir\":\"/opt/ml/output\",\"output_intermediate_dir\":\"/opt/ml/output/intermediate\",\"resource_config\":{\"current_host\":\"algo-1\",\"hosts\":[\"algo-1\"],\"network_interface_name\":\"eth0\"},\"user_entry_point\":\"train.py\"}\u001b[0m\n",
      "\u001b[34mSM_CURRENT_HOST=algo-1\u001b[0m\n",
      "\u001b[34mSM_MODULE_NAME=train\u001b[0m\n",
      "\u001b[34mSM_OUTPUT_DATA_DIR=/opt/ml/output/data\u001b[0m\n",
      "\u001b[34mSM_HPS={\"epochs\":10,\"hidden_dim\":200}\u001b[0m\n",
      "\u001b[34mSM_NUM_CPUS=4\u001b[0m\n",
      "\u001b[34mSM_NETWORK_INTERFACE_NAME=eth0\u001b[0m\n",
      "\u001b[34mSM_FRAMEWORK_MODULE=sagemaker_pytorch_container.training:main\u001b[0m\n",
      "\u001b[34mSM_INPUT_DIR=/opt/ml/input\u001b[0m\n",
      "\u001b[34mSM_HP_HIDDEN_DIM=200\u001b[0m\n",
      "\u001b[34mSM_CHANNELS=[\"training\"]\u001b[0m\n",
      "\u001b[34mSM_OUTPUT_INTERMEDIATE_DIR=/opt/ml/output/intermediate\u001b[0m\n",
      "\u001b[34mSM_RESOURCE_CONFIG={\"current_host\":\"algo-1\",\"hosts\":[\"algo-1\"],\"network_interface_name\":\"eth0\"}\u001b[0m\n",
      "\u001b[34mSM_MODEL_DIR=/opt/ml/model\u001b[0m\n",
      "\u001b[34mSM_MODULE_DIR=s3://sagemaker-us-east-2-757052720620/sagemaker-pytorch-2020-01-03-19-47-44-405/source/sourcedir.tar.gz\u001b[0m\n",
      "\u001b[34mSM_HP_EPOCHS=10\u001b[0m\n",
      "\u001b[34mSM_INPUT_DATA_CONFIG={\"training\":{\"RecordWrapperType\":\"None\",\"S3DistributionType\":\"FullyReplicated\",\"TrainingInputMode\":\"File\"}}\u001b[0m\n",
      "\u001b[34mSM_OUTPUT_DIR=/opt/ml/output\u001b[0m\n",
      "\u001b[34mSM_NUM_GPUS=0\u001b[0m\n",
      "\u001b[34mSM_INPUT_CONFIG_DIR=/opt/ml/input/config\u001b[0m\n",
      "\u001b[34mSM_USER_ARGS=[\"--epochs\",\"10\",\"--hidden_dim\",\"200\"]\u001b[0m\n",
      "\u001b[34mPYTHONPATH=/usr/local/bin:/usr/lib/python35.zip:/usr/lib/python3.5:/usr/lib/python3.5/plat-x86_64-linux-gnu:/usr/lib/python3.5/lib-dynload:/usr/local/lib/python3.5/dist-packages:/usr/lib/python3/dist-packages\u001b[0m\n",
      "\u001b[34mSM_FRAMEWORK_PARAMS={}\u001b[0m\n",
      "\u001b[34mSM_LOG_LEVEL=20\u001b[0m\n",
      "\u001b[34mSM_USER_ENTRY_POINT=train.py\u001b[0m\n",
      "\u001b[34mSM_CHANNEL_TRAINING=/opt/ml/input/data/training\n",
      "\u001b[0m\n",
      "\u001b[34mInvoking script with the following command:\n",
      "\u001b[0m\n",
      "\u001b[34m/usr/bin/python -m train --epochs 10 --hidden_dim 200\n",
      "\n",
      "\u001b[0m\n",
      "\u001b[34mUsing device cpu.\u001b[0m\n",
      "\u001b[34mGet train data loader.\u001b[0m\n",
      "\u001b[34mModel loaded with embedding_dim 32, hidden_dim 200, vocab_size 5000.\u001b[0m\n",
      "\u001b[34mEpoch: 1, BCELoss: 0.6723395099445265\u001b[0m\n",
      "\u001b[34mEpoch: 2, BCELoss: 0.6043321028047678\u001b[0m\n",
      "\u001b[34mEpoch: 3, BCELoss: 0.5109228856709539\u001b[0m\n",
      "\u001b[34mEpoch: 4, BCELoss: 0.4316673120673822\u001b[0m\n",
      "\u001b[34mEpoch: 5, BCELoss: 0.40366081741391396\u001b[0m\n",
      "\u001b[34mEpoch: 6, BCELoss: 0.36319849016715067\u001b[0m\n",
      "\u001b[34mEpoch: 7, BCELoss: 0.3265109798129724\u001b[0m\n",
      "\u001b[34mEpoch: 8, BCELoss: 0.3186873799684096\u001b[0m\n",
      "\u001b[34mEpoch: 9, BCELoss: 0.2942233286341842\u001b[0m\n",
      "\n",
      "2020-01-03 21:32:48 Uploading - Uploading generated training model\n",
      "2020-01-03 21:32:48 Completed - Training job completed\n",
      "\u001b[34mEpoch: 10, BCELoss: 0.2905259436490584\u001b[0m\n",
      "\u001b[34m2020-01-03 21:32:40,635 sagemaker-containers INFO     Reporting training SUCCESS\u001b[0m\n",
      "Training seconds: 6186\n",
      "Billable seconds: 6186\n"
     ]
    }
   ],
   "source": [
    "estimator.fit({'training': input_data})"
   ]
  },
  {
   "cell_type": "markdown",
   "metadata": {},
   "source": [
    "## Step 5: Testing the model\n",
    "\n",
    "As mentioned at the top of this notebook, we will be testing this model by first deploying it and then sending the testing data to the deployed endpoint. We will do this so that we can make sure that the deployed model is working correctly.\n",
    "\n",
    "## Step 6: Deploy the model for testing\n",
    "\n",
    "Now that we have trained our model, we would like to test it to see how it performs. Currently our model takes input of the form `review_length, review[500]` where `review[500]` is a sequence of `500` integers which describe the words present in the review, encoded using `word_dict`. Fortunately for us, SageMaker provides built-in inference code for models with simple inputs such as this.\n",
    "\n",
    "There is one thing that we need to provide, however, and that is a function which loads the saved model. This function must be called `model_fn()` and takes as its only parameter a path to the directory where the model artifacts are stored. This function must also be present in the python file which we specified as the entry point. In our case the model loading function has been provided and so no changes need to be made.\n",
    "\n",
    "**NOTE**: When the built-in inference code is run it must import the `model_fn()` method from the `train.py` file. This is why the training code is wrapped in a main guard ( ie, `if __name__ == '__main__':` )\n",
    "\n",
    "Since we don't need to change anything in the code that was uploaded during training, we can simply deploy the current model as-is.\n",
    "\n",
    "**NOTE:** When deploying a model you are asking SageMaker to launch an compute instance that will wait for data to be sent to it. As a result, this compute instance will continue to run until *you* shut it down. This is important to know since the cost of a deployed endpoint depends on how long it has been running for.\n",
    "\n",
    "In other words **If you are no longer using a deployed endpoint, shut it down!**\n",
    "\n",
    "**TODO:** Deploy the trained model."
   ]
  },
  {
   "cell_type": "code",
   "execution_count": 53,
   "metadata": {},
   "outputs": [
    {
     "name": "stdout",
     "output_type": "stream",
     "text": [
      "--------------------------------------------------------------------------------------------------!"
     ]
    }
   ],
   "source": [
    "# TODO: Deploy the trained model\n",
    "#predictor = estimator.deploy(initial_instance_count = 1, instance_type = 'ml.m4.xlarge')\n",
    "predictor = estimator.deploy(initial_instance_count = 1, instance_type = 'ml.t2.medium')"
   ]
  },
  {
   "cell_type": "markdown",
   "metadata": {},
   "source": [
    "## Step 7 - Use the model for testing\n",
    "\n",
    "Once deployed, we can read in the test data and send it off to our deployed model to get some results. Once we collect all of the results we can determine how accurate our model is."
   ]
  },
  {
   "cell_type": "code",
   "execution_count": 54,
   "metadata": {},
   "outputs": [],
   "source": [
    "test_X = pd.concat([pd.DataFrame(test_X_len), pd.DataFrame(test_X)], axis=1)"
   ]
  },
  {
   "cell_type": "code",
   "execution_count": 55,
   "metadata": {},
   "outputs": [],
   "source": [
    "# We split the data into chunks and send each chunk seperately, accumulating the results.\n",
    "\n",
    "def predict(data, rows=512):\n",
    "    split_array = np.array_split(data, int(data.shape[0] / float(rows) + 1))\n",
    "    predictions = np.array([])\n",
    "    for array in split_array:\n",
    "        predictions = np.append(predictions, predictor.predict(array))\n",
    "    \n",
    "    return predictions"
   ]
  },
  {
   "cell_type": "code",
   "execution_count": 56,
   "metadata": {},
   "outputs": [],
   "source": [
    "out = predict(test_X.values)"
   ]
  },
  {
   "cell_type": "code",
   "execution_count": 57,
   "metadata": {},
   "outputs": [],
   "source": [
    "predictions = [round(num) for num in out]"
   ]
  },
  {
   "cell_type": "code",
   "execution_count": 58,
   "metadata": {},
   "outputs": [
    {
     "data": {
      "text/plain": [
       "0.8404"
      ]
     },
     "execution_count": 58,
     "metadata": {},
     "output_type": "execute_result"
    }
   ],
   "source": [
    "from sklearn.metrics import accuracy_score\n",
    "accuracy_score(test_y, predictions)"
   ]
  },
  {
   "cell_type": "markdown",
   "metadata": {},
   "source": [
    "**Question:** How does this model compare to the XGBoost model you created earlier? Why might these two models perform differently on this dataset? Which do *you* think is better for sentiment analysis?"
   ]
  },
  {
   "cell_type": "markdown",
   "metadata": {},
   "source": [
    "**Answer:**\n",
    "- In general, any RNN model is better for sentiment analysis, because the recurrent nature takes into account of sequantial information.\n",
    "- Here, since a basic RNN network has been used without any hyperparameter tuning, the results similar to that of XGBoost (XGBoost gave 85%).\n",
    "- A deeper RNN model will perform better than XGBoost"
   ]
  },
  {
   "cell_type": "markdown",
   "metadata": {},
   "source": [
    "### (TODO) More testing\n",
    "\n",
    "We now have a trained model which has been deployed and which we can send processed reviews to and which returns the predicted sentiment. However, ultimately we would like to be able to send our model an unprocessed review. That is, we would like to send the review itself as a string. For example, suppose we wish to send the following review to our model."
   ]
  },
  {
   "cell_type": "code",
   "execution_count": 59,
   "metadata": {},
   "outputs": [],
   "source": [
    "test_review = 'The simplest pleasures in life are the best, and this film is one of them. Combining a rather basic storyline of love and adventure this movie transcends the usual weekend fair with wit and unmitigated charm.'"
   ]
  },
  {
   "cell_type": "markdown",
   "metadata": {},
   "source": [
    "The question we now need to answer is, how do we send this review to our model?\n",
    "\n",
    "Recall in the first section of this notebook we did a bunch of data processing to the IMDb dataset. In particular, we did two specific things to the provided reviews.\n",
    " - Removed any html tags and stemmed the input\n",
    " - Encoded the review as a sequence of integers using `word_dict`\n",
    " \n",
    "In order process the review we will need to repeat these two steps.\n",
    "\n",
    "**TODO**: Using the `review_to_words` and `convert_and_pad` methods from section one, convert `test_review` into a numpy array `test_data` suitable to send to our model. Remember that our model expects input of the form `review_length, review[500]`."
   ]
  },
  {
   "cell_type": "code",
   "execution_count": 60,
   "metadata": {},
   "outputs": [],
   "source": [
    "# TODO: Convert test_review into a form usable by the model and save the results in test_data\n",
    "#test_data = None\n",
    "test_data = review_to_words(test_review)\n",
    "test_data = [np.array(convert_and_pad(word_dict, test_data)[0])]"
   ]
  },
  {
   "cell_type": "markdown",
   "metadata": {},
   "source": [
    "Now that we have processed the review, we can send the resulting array to our model to predict the sentiment of the review."
   ]
  },
  {
   "cell_type": "code",
   "execution_count": 61,
   "metadata": {},
   "outputs": [
    {
     "data": {
      "text/plain": [
       "array(0.56013113, dtype=float32)"
      ]
     },
     "execution_count": 61,
     "metadata": {},
     "output_type": "execute_result"
    }
   ],
   "source": [
    "predictor.predict(test_data)"
   ]
  },
  {
   "cell_type": "code",
   "execution_count": 63,
   "metadata": {},
   "outputs": [
    {
     "data": {
      "text/plain": [
       "1.0"
      ]
     },
     "execution_count": 63,
     "metadata": {},
     "output_type": "execute_result"
    }
   ],
   "source": [
    "np.round(predictor.predict(test_data))"
   ]
  },
  {
   "cell_type": "markdown",
   "metadata": {},
   "source": [
    "Since the return value of our model is close to `1`, we can be certain that the review we submitted is positive."
   ]
  },
  {
   "cell_type": "markdown",
   "metadata": {},
   "source": [
    "### Delete the endpoint\n",
    "\n",
    "Of course, just like in the XGBoost notebook, once we've deployed an endpoint it continues to run until we tell it to shut down. Since we are done using our endpoint for now, we can delete it."
   ]
  },
  {
   "cell_type": "code",
   "execution_count": 64,
   "metadata": {},
   "outputs": [],
   "source": [
    "estimator.delete_endpoint()"
   ]
  },
  {
   "cell_type": "markdown",
   "metadata": {},
   "source": [
    "## Step 6 (again) - Deploy the model for the web app\n",
    "\n",
    "Now that we know that our model is working, it's time to create some custom inference code so that we can send the model a review which has not been processed and have it determine the sentiment of the review.\n",
    "\n",
    "As we saw above, by default the estimator which we created, when deployed, will use the entry script and directory which we provided when creating the model. However, since we now wish to accept a string as input and our model expects a processed review, we need to write some custom inference code.\n",
    "\n",
    "We will store the code that we write in the `serve` directory. Provided in this directory is the `model.py` file that we used to construct our model, a `utils.py` file which contains the `review_to_words` and `convert_and_pad` pre-processing functions which we used during the initial data processing, and `predict.py`, the file which will contain our custom inference code. Note also that `requirements.txt` is present which will tell SageMaker what Python libraries are required by our custom inference code.\n",
    "\n",
    "When deploying a PyTorch model in SageMaker, you are expected to provide four functions which the SageMaker inference container will use.\n",
    " - `model_fn`: This function is the same function that we used in the training script and it tells SageMaker how to load our model.\n",
    " - `input_fn`: This function receives the raw serialized input that has been sent to the model's endpoint and its job is to de-serialize and make the input available for the inference code.\n",
    " - `output_fn`: This function takes the output of the inference code and its job is to serialize this output and return it to the caller of the model's endpoint.\n",
    " - `predict_fn`: The heart of the inference script, this is where the actual prediction is done and is the function which you will need to complete.\n",
    "\n",
    "For the simple website that we are constructing during this project, the `input_fn` and `output_fn` methods are relatively straightforward. We only require being able to accept a string as input and we expect to return a single value as output. You might imagine though that in a more complex application the input or output may be image data or some other binary data which would require some effort to serialize.\n",
    "\n",
    "### (TODO) Writing inference code\n",
    "\n",
    "Before writing our custom inference code, we will begin by taking a look at the code which has been provided."
   ]
  },
  {
   "cell_type": "code",
   "execution_count": 65,
   "metadata": {},
   "outputs": [
    {
     "name": "stdout",
     "output_type": "stream",
     "text": [
      "\u001b[34mimport\u001b[39;49;00m \u001b[04m\u001b[36margparse\u001b[39;49;00m\r\n",
      "\u001b[34mimport\u001b[39;49;00m \u001b[04m\u001b[36mjson\u001b[39;49;00m\r\n",
      "\u001b[34mimport\u001b[39;49;00m \u001b[04m\u001b[36mos\u001b[39;49;00m\r\n",
      "\u001b[34mimport\u001b[39;49;00m \u001b[04m\u001b[36mpickle\u001b[39;49;00m\r\n",
      "\u001b[34mimport\u001b[39;49;00m \u001b[04m\u001b[36msys\u001b[39;49;00m\r\n",
      "\u001b[34mimport\u001b[39;49;00m \u001b[04m\u001b[36msagemaker_containers\u001b[39;49;00m\r\n",
      "\u001b[34mimport\u001b[39;49;00m \u001b[04m\u001b[36mpandas\u001b[39;49;00m \u001b[34mas\u001b[39;49;00m \u001b[04m\u001b[36mpd\u001b[39;49;00m\r\n",
      "\u001b[34mimport\u001b[39;49;00m \u001b[04m\u001b[36mnumpy\u001b[39;49;00m \u001b[34mas\u001b[39;49;00m \u001b[04m\u001b[36mnp\u001b[39;49;00m\r\n",
      "\u001b[34mimport\u001b[39;49;00m \u001b[04m\u001b[36mtorch\u001b[39;49;00m\r\n",
      "\u001b[34mimport\u001b[39;49;00m \u001b[04m\u001b[36mtorch.nn\u001b[39;49;00m \u001b[34mas\u001b[39;49;00m \u001b[04m\u001b[36mnn\u001b[39;49;00m\r\n",
      "\u001b[34mimport\u001b[39;49;00m \u001b[04m\u001b[36mtorch.optim\u001b[39;49;00m \u001b[34mas\u001b[39;49;00m \u001b[04m\u001b[36moptim\u001b[39;49;00m\r\n",
      "\u001b[34mimport\u001b[39;49;00m \u001b[04m\u001b[36mtorch.utils.data\u001b[39;49;00m\r\n",
      "\r\n",
      "\u001b[34mfrom\u001b[39;49;00m \u001b[04m\u001b[36mmodel\u001b[39;49;00m \u001b[34mimport\u001b[39;49;00m LSTMClassifier\r\n",
      "\r\n",
      "\u001b[34mfrom\u001b[39;49;00m \u001b[04m\u001b[36mutils\u001b[39;49;00m \u001b[34mimport\u001b[39;49;00m review_to_words, convert_and_pad\r\n",
      "\r\n",
      "\u001b[34mdef\u001b[39;49;00m \u001b[32mmodel_fn\u001b[39;49;00m(model_dir):\r\n",
      "    \u001b[33m\"\"\"Load the PyTorch model from the `model_dir` directory.\"\"\"\u001b[39;49;00m\r\n",
      "    \u001b[34mprint\u001b[39;49;00m(\u001b[33m\"\u001b[39;49;00m\u001b[33mLoading model.\u001b[39;49;00m\u001b[33m\"\u001b[39;49;00m)\r\n",
      "\r\n",
      "    \u001b[37m# First, load the parameters used to create the model.\u001b[39;49;00m\r\n",
      "    model_info = {}\r\n",
      "    model_info_path = os.path.join(model_dir, \u001b[33m'\u001b[39;49;00m\u001b[33mmodel_info.pth\u001b[39;49;00m\u001b[33m'\u001b[39;49;00m)\r\n",
      "    \u001b[34mwith\u001b[39;49;00m \u001b[36mopen\u001b[39;49;00m(model_info_path, \u001b[33m'\u001b[39;49;00m\u001b[33mrb\u001b[39;49;00m\u001b[33m'\u001b[39;49;00m) \u001b[34mas\u001b[39;49;00m f:\r\n",
      "        model_info = torch.load(f)\r\n",
      "\r\n",
      "    \u001b[34mprint\u001b[39;49;00m(\u001b[33m\"\u001b[39;49;00m\u001b[33mmodel_info: {}\u001b[39;49;00m\u001b[33m\"\u001b[39;49;00m.format(model_info))\r\n",
      "\r\n",
      "    \u001b[37m# Determine the device and construct the model.\u001b[39;49;00m\r\n",
      "    device = torch.device(\u001b[33m\"\u001b[39;49;00m\u001b[33mcuda\u001b[39;49;00m\u001b[33m\"\u001b[39;49;00m \u001b[34mif\u001b[39;49;00m torch.cuda.is_available() \u001b[34melse\u001b[39;49;00m \u001b[33m\"\u001b[39;49;00m\u001b[33mcpu\u001b[39;49;00m\u001b[33m\"\u001b[39;49;00m)\r\n",
      "    model = LSTMClassifier(model_info[\u001b[33m'\u001b[39;49;00m\u001b[33membedding_dim\u001b[39;49;00m\u001b[33m'\u001b[39;49;00m], model_info[\u001b[33m'\u001b[39;49;00m\u001b[33mhidden_dim\u001b[39;49;00m\u001b[33m'\u001b[39;49;00m], model_info[\u001b[33m'\u001b[39;49;00m\u001b[33mvocab_size\u001b[39;49;00m\u001b[33m'\u001b[39;49;00m])\r\n",
      "\r\n",
      "    \u001b[37m# Load the store model parameters.\u001b[39;49;00m\r\n",
      "    model_path = os.path.join(model_dir, \u001b[33m'\u001b[39;49;00m\u001b[33mmodel.pth\u001b[39;49;00m\u001b[33m'\u001b[39;49;00m)\r\n",
      "    \u001b[34mwith\u001b[39;49;00m \u001b[36mopen\u001b[39;49;00m(model_path, \u001b[33m'\u001b[39;49;00m\u001b[33mrb\u001b[39;49;00m\u001b[33m'\u001b[39;49;00m) \u001b[34mas\u001b[39;49;00m f:\r\n",
      "        model.load_state_dict(torch.load(f))\r\n",
      "\r\n",
      "    \u001b[37m# Load the saved word_dict.\u001b[39;49;00m\r\n",
      "    word_dict_path = os.path.join(model_dir, \u001b[33m'\u001b[39;49;00m\u001b[33mword_dict.pkl\u001b[39;49;00m\u001b[33m'\u001b[39;49;00m)\r\n",
      "    \u001b[34mwith\u001b[39;49;00m \u001b[36mopen\u001b[39;49;00m(word_dict_path, \u001b[33m'\u001b[39;49;00m\u001b[33mrb\u001b[39;49;00m\u001b[33m'\u001b[39;49;00m) \u001b[34mas\u001b[39;49;00m f:\r\n",
      "        model.word_dict = pickle.load(f)\r\n",
      "\r\n",
      "    model.to(device).eval()\r\n",
      "\r\n",
      "    \u001b[34mprint\u001b[39;49;00m(\u001b[33m\"\u001b[39;49;00m\u001b[33mDone loading model.\u001b[39;49;00m\u001b[33m\"\u001b[39;49;00m)\r\n",
      "    \u001b[34mreturn\u001b[39;49;00m model\r\n",
      "\r\n",
      "\u001b[34mdef\u001b[39;49;00m \u001b[32minput_fn\u001b[39;49;00m(serialized_input_data, content_type):\r\n",
      "    \u001b[34mprint\u001b[39;49;00m(\u001b[33m'\u001b[39;49;00m\u001b[33mDeserializing the input data.\u001b[39;49;00m\u001b[33m'\u001b[39;49;00m)\r\n",
      "    \u001b[34mif\u001b[39;49;00m content_type == \u001b[33m'\u001b[39;49;00m\u001b[33mtext/plain\u001b[39;49;00m\u001b[33m'\u001b[39;49;00m:\r\n",
      "        data = serialized_input_data.decode(\u001b[33m'\u001b[39;49;00m\u001b[33mutf-8\u001b[39;49;00m\u001b[33m'\u001b[39;49;00m)\r\n",
      "        \u001b[34mreturn\u001b[39;49;00m data\r\n",
      "    \u001b[34mraise\u001b[39;49;00m \u001b[36mException\u001b[39;49;00m(\u001b[33m'\u001b[39;49;00m\u001b[33mRequested unsupported ContentType in content_type: \u001b[39;49;00m\u001b[33m'\u001b[39;49;00m + content_type)\r\n",
      "\r\n",
      "\u001b[34mdef\u001b[39;49;00m \u001b[32moutput_fn\u001b[39;49;00m(prediction_output, accept):\r\n",
      "    \u001b[34mprint\u001b[39;49;00m(\u001b[33m'\u001b[39;49;00m\u001b[33mSerializing the generated output.\u001b[39;49;00m\u001b[33m'\u001b[39;49;00m)\r\n",
      "    \u001b[34mreturn\u001b[39;49;00m \u001b[36mstr\u001b[39;49;00m(prediction_output)\r\n",
      "\r\n",
      "\u001b[34mdef\u001b[39;49;00m \u001b[32mpredict_fn\u001b[39;49;00m(input_data, model):\r\n",
      "    \u001b[34mprint\u001b[39;49;00m(\u001b[33m'\u001b[39;49;00m\u001b[33mInferring sentiment of input data.\u001b[39;49;00m\u001b[33m'\u001b[39;49;00m)\r\n",
      "\r\n",
      "    device = torch.device(\u001b[33m\"\u001b[39;49;00m\u001b[33mcuda\u001b[39;49;00m\u001b[33m\"\u001b[39;49;00m \u001b[34mif\u001b[39;49;00m torch.cuda.is_available() \u001b[34melse\u001b[39;49;00m \u001b[33m\"\u001b[39;49;00m\u001b[33mcpu\u001b[39;49;00m\u001b[33m\"\u001b[39;49;00m)\r\n",
      "    \r\n",
      "    \u001b[34mif\u001b[39;49;00m model.word_dict \u001b[35mis\u001b[39;49;00m \u001b[36mNone\u001b[39;49;00m:\r\n",
      "        \u001b[34mraise\u001b[39;49;00m \u001b[36mException\u001b[39;49;00m(\u001b[33m'\u001b[39;49;00m\u001b[33mModel has not been loaded properly, no word_dict.\u001b[39;49;00m\u001b[33m'\u001b[39;49;00m)\r\n",
      "    \r\n",
      "    \u001b[37m#!DONE TODO: Process input_data so that it is ready to be sent to our model.\u001b[39;49;00m\r\n",
      "    \u001b[37m#       You should produce two variables:\u001b[39;49;00m\r\n",
      "    \u001b[37m#         data_X   - A sequence of length 500 which represents the converted review\u001b[39;49;00m\r\n",
      "    \u001b[37m#         data_len - The length of the review\u001b[39;49;00m\r\n",
      "\r\n",
      "    \u001b[37m#data_X = None\u001b[39;49;00m\r\n",
      "    \u001b[37m#data_len = None\u001b[39;49;00m\r\n",
      "    words = review_to_words(input_data)\r\n",
      "    data_X, data_len = convert_and_pad(model.word_dict, words)\r\n",
      "\r\n",
      "    \u001b[37m# Using data_X and data_len we construct an appropriate input tensor. Remember\u001b[39;49;00m\r\n",
      "    \u001b[37m# that our model expects input data of the form 'len, review[500]'.\u001b[39;49;00m\r\n",
      "    data_pack = np.hstack((data_len, data_X))\r\n",
      "    data_pack = data_pack.reshape(\u001b[34m1\u001b[39;49;00m, -\u001b[34m1\u001b[39;49;00m)\r\n",
      "    \r\n",
      "    data = torch.from_numpy(data_pack)\r\n",
      "    data = data.to(device)\r\n",
      "\r\n",
      "    \u001b[37m# Make sure to put the model into evaluation mode\u001b[39;49;00m\r\n",
      "    model.eval()\r\n",
      "\r\n",
      "    \u001b[37m# !DONE TODO: Compute the result of applying the model to the input data. The variable `result` should\u001b[39;49;00m\r\n",
      "    \u001b[37m#       be a numpy array which contains a single integer which is either 1 or 0\u001b[39;49;00m\r\n",
      "    \u001b[37m#####NEW\u001b[39;49;00m\r\n",
      "    \u001b[34mwith\u001b[39;49;00m torch.no_grad():\r\n",
      "        output = model.forward(data)\r\n",
      "    \u001b[37m#Rounding between 0 and 1\u001b[39;49;00m\r\n",
      "    result = np.round(output.numpy())\r\n",
      "    \u001b[37m#result = None\u001b[39;49;00m\r\n",
      "\r\n",
      "    \u001b[34mreturn\u001b[39;49;00m result\r\n"
     ]
    }
   ],
   "source": [
    "!pygmentize serve/predict.py"
   ]
  },
  {
   "cell_type": "markdown",
   "metadata": {},
   "source": [
    "As mentioned earlier, the `model_fn` method is the same as the one provided in the training code and the `input_fn` and `output_fn` methods are very simple and your task will be to complete the `predict_fn` method. Make sure that you save the completed file as `predict.py` in the `serve` directory.\n",
    "\n",
    "**TODO**: Complete the `predict_fn()` method in the `serve/predict.py` file."
   ]
  },
  {
   "cell_type": "markdown",
   "metadata": {},
   "source": [
    "### Deploying the model\n",
    "\n",
    "Now that the custom inference code has been written, we will create and deploy our model. To begin with, we need to construct a new PyTorchModel object which points to the model artifacts created during training and also points to the inference code that we wish to use. Then we can call the deploy method to launch the deployment container.\n",
    "\n",
    "**NOTE**: The default behaviour for a deployed PyTorch model is to assume that any input passed to the predictor is a `numpy` array. In our case we want to send a string so we need to construct a simple wrapper around the `RealTimePredictor` class to accomodate simple strings. In a more complicated situation you may want to provide a serialization object, for example if you wanted to sent image data."
   ]
  },
  {
   "cell_type": "code",
   "execution_count": 66,
   "metadata": {},
   "outputs": [
    {
     "name": "stdout",
     "output_type": "stream",
     "text": [
      "--------------------------------------------------------------------------------------!"
     ]
    }
   ],
   "source": [
    "from sagemaker.predictor import RealTimePredictor\n",
    "from sagemaker.pytorch import PyTorchModel\n",
    "\n",
    "class StringPredictor(RealTimePredictor):\n",
    "    def __init__(self, endpoint_name, sagemaker_session):\n",
    "        super(StringPredictor, self).__init__(endpoint_name, sagemaker_session, content_type='text/plain')\n",
    "\n",
    "model = PyTorchModel(model_data=estimator.model_data,\n",
    "                     role = role,\n",
    "                     framework_version='0.4.0',\n",
    "                     entry_point='predict.py',\n",
    "                     source_dir='serve',\n",
    "                     predictor_cls=StringPredictor)\n",
    "predictor = model.deploy(initial_instance_count=1, instance_type='ml.t2.medium')"
   ]
  },
  {
   "cell_type": "markdown",
   "metadata": {},
   "source": [
    "### Testing the model\n",
    "\n",
    "Now that we have deployed our model with the custom inference code, we should test to see if everything is working. Here we test our model by loading the first `250` positive and negative reviews and send them to the endpoint, then collect the results. The reason for only sending some of the data is that the amount of time it takes for our model to process the input and then perform inference is quite long and so testing the entire data set would be prohibitive."
   ]
  },
  {
   "cell_type": "code",
   "execution_count": 67,
   "metadata": {},
   "outputs": [],
   "source": [
    "import glob\n",
    "\n",
    "def test_reviews(data_dir='../data/aclImdb', stop=250):\n",
    "    \n",
    "    results = []\n",
    "    ground = []\n",
    "    \n",
    "    # We make sure to test both positive and negative reviews    \n",
    "    for sentiment in ['pos', 'neg']:\n",
    "        \n",
    "        path = os.path.join(data_dir, 'test', sentiment, '*.txt')\n",
    "        files = glob.glob(path)\n",
    "        files_read = 0\n",
    "        \n",
    "        print('Starting ', sentiment, ' files')\n",
    "        \n",
    "        # Iterate through the files and send them to the predictor\n",
    "        for f in files:\n",
    "            \n",
    "            with open(f) as review:\n",
    "                \n",
    "                # First, we store the ground truth (was the review positive or negative)\n",
    "                if sentiment == 'pos':\n",
    "                    ground.append(1)\n",
    "                else:\n",
    "                    ground.append(0)\n",
    "                \n",
    "                # Read in the review and convert to 'utf-8' for transmission via HTTP\n",
    "                review_input = review.read().encode('utf-8')\n",
    "                # Send the review to the predictor and store the results\n",
    "                #print(predictor.predict(review_input))\n",
    "                results.append(int(float(predictor.predict(review_input))))\n",
    "                \n",
    "            # Sending reviews to our endpoint one at a time takes a while so we\n",
    "            # only send a small number of reviews\n",
    "            files_read += 1\n",
    "            if files_read == stop:\n",
    "                break\n",
    "            \n",
    "    return ground, results"
   ]
  },
  {
   "cell_type": "code",
   "execution_count": 68,
   "metadata": {},
   "outputs": [
    {
     "name": "stdout",
     "output_type": "stream",
     "text": [
      "Starting  pos  files\n",
      "Starting  neg  files\n"
     ]
    }
   ],
   "source": [
    "ground, results = test_reviews()"
   ]
  },
  {
   "cell_type": "code",
   "execution_count": 69,
   "metadata": {},
   "outputs": [
    {
     "data": {
      "text/plain": [
       "0.818"
      ]
     },
     "execution_count": 69,
     "metadata": {},
     "output_type": "execute_result"
    }
   ],
   "source": [
    "from sklearn.metrics import accuracy_score\n",
    "accuracy_score(ground, results)"
   ]
  },
  {
   "cell_type": "markdown",
   "metadata": {},
   "source": [
    "As an additional test, we can try sending the `test_review` that we looked at earlier."
   ]
  },
  {
   "cell_type": "code",
   "execution_count": 70,
   "metadata": {},
   "outputs": [
    {
     "data": {
      "text/plain": [
       "b'1.0'"
      ]
     },
     "execution_count": 70,
     "metadata": {},
     "output_type": "execute_result"
    }
   ],
   "source": [
    "predictor.predict(test_review)"
   ]
  },
  {
   "cell_type": "markdown",
   "metadata": {},
   "source": [
    "Now that we know our endpoint is working as expected, we can set up the web page that will interact with it. If you don't have time to finish the project now, make sure to skip down to the end of this notebook and shut down your endpoint. You can deploy it again when you come back."
   ]
  },
  {
   "cell_type": "markdown",
   "metadata": {},
   "source": [
    "## Step 7 (again): Use the model for the web app\n",
    "\n",
    "> **TODO:** This entire section and the next contain tasks for you to complete, mostly using the AWS console.\n",
    "\n",
    "So far we have been accessing our model endpoint by constructing a predictor object which uses the endpoint and then just using the predictor object to perform inference. What if we wanted to create a web app which accessed our model? The way things are set up currently makes that not possible since in order to access a SageMaker endpoint the app would first have to authenticate with AWS using an IAM role which included access to SageMaker endpoints. However, there is an easier way! We just need to use some additional AWS services.\n",
    "\n",
    "<img src=\"Web App Diagram.svg\">\n",
    "\n",
    "The diagram above gives an overview of how the various services will work together. On the far right is the model which we trained above and which is deployed using SageMaker. On the far left is our web app that collects a user's movie review, sends it off and expects a positive or negative sentiment in return.\n",
    "\n",
    "In the middle is where some of the magic happens. We will construct a Lambda function, which you can think of as a straightforward Python function that can be executed whenever a specified event occurs. We will give this function permission to send and recieve data from a SageMaker endpoint.\n",
    "\n",
    "Lastly, the method we will use to execute the Lambda function is a new endpoint that we will create using API Gateway. This endpoint will be a url that listens for data to be sent to it. Once it gets some data it will pass that data on to the Lambda function and then return whatever the Lambda function returns. Essentially it will act as an interface that lets our web app communicate with the Lambda function.\n",
    "\n",
    "### Setting up a Lambda function\n",
    "\n",
    "The first thing we are going to do is set up a Lambda function. This Lambda function will be executed whenever our public API has data sent to it. When it is executed it will receive the data, perform any sort of processing that is required, send the data (the review) to the SageMaker endpoint we've created and then return the result.\n",
    "\n",
    "#### Part A: Create an IAM Role for the Lambda function\n",
    "\n",
    "Since we want the Lambda function to call a SageMaker endpoint, we need to make sure that it has permission to do so. To do this, we will construct a role that we can later give the Lambda function.\n",
    "\n",
    "Using the AWS Console, navigate to the **IAM** page and click on **Roles**. Then, click on **Create role**. Make sure that the **AWS service** is the type of trusted entity selected and choose **Lambda** as the service that will use this role, then click **Next: Permissions**.\n",
    "\n",
    "In the search box type `sagemaker` and select the check box next to the **AmazonSageMakerFullAccess** policy. Then, click on **Next: Review**.\n",
    "\n",
    "Lastly, give this role a name. Make sure you use a name that you will remember later on, for example `LambdaSageMakerRole`. Then, click on **Create role**.\n",
    "\n",
    "#### Part B: Create a Lambda function\n",
    "\n",
    "Now it is time to actually create the Lambda function.\n",
    "\n",
    "Using the AWS Console, navigate to the AWS Lambda page and click on **Create a function**. When you get to the next page, make sure that **Author from scratch** is selected. Now, name your Lambda function, using a name that you will remember later on, for example `sentiment_analysis_func`. Make sure that the **Python 3.6** runtime is selected and then choose the role that you created in the previous part. Then, click on **Create Function**.\n",
    "\n",
    "On the next page you will see some information about the Lambda function you've just created. If you scroll down you should see an editor in which you can write the code that will be executed when your Lambda function is triggered. In our example, we will use the code below. \n",
    "\n",
    "```python\n",
    "# We need to use the low-level library to interact with SageMaker since the SageMaker API\n",
    "# is not available natively through Lambda.\n",
    "import boto3\n",
    "\n",
    "def lambda_handler(event, context):\n",
    "\n",
    "    # The SageMaker runtime is what allows us to invoke the endpoint that we've created.\n",
    "    runtime = boto3.Session().client('sagemaker-runtime')\n",
    "\n",
    "    # Now we use the SageMaker runtime to invoke our endpoint, sending the review we were given\n",
    "    response = runtime.invoke_endpoint(EndpointName = '**ENDPOINT NAME HERE**',    # The name of the endpoint we created\n",
    "                                       ContentType = 'text/plain',                 # The data format that is expected\n",
    "                                       Body = event['body'])                       # The actual review\n",
    "\n",
    "    # The response is an HTTP response whose body contains the result of our inference\n",
    "    result = response['Body'].read().decode('utf-8')\n",
    "\n",
    "    return {\n",
    "        'statusCode' : 200,\n",
    "        'headers' : { 'Content-Type' : 'text/plain', 'Access-Control-Allow-Origin' : '*' },\n",
    "        'body' : result\n",
    "    }\n",
    "```\n",
    "\n",
    "Once you have copy and pasted the code above into the Lambda code editor, replace the `**ENDPOINT NAME HERE**` portion with the name of the endpoint that we deployed earlier. You can determine the name of the endpoint using the code cell below."
   ]
  },
  {
   "cell_type": "code",
   "execution_count": 71,
   "metadata": {},
   "outputs": [
    {
     "data": {
      "text/plain": [
       "'sagemaker-pytorch-2020-01-03-22-04-44-717'"
      ]
     },
     "execution_count": 71,
     "metadata": {},
     "output_type": "execute_result"
    }
   ],
   "source": [
    "predictor.endpoint"
   ]
  },
  {
   "cell_type": "markdown",
   "metadata": {},
   "source": [
    "Once you have added the endpoint name to the Lambda function, click on **Save**. Your Lambda function is now up and running. Next we need to create a way for our web app to execute the Lambda function.\n",
    "\n",
    "### Setting up API Gateway\n",
    "\n",
    "Now that our Lambda function is set up, it is time to create a new API using API Gateway that will trigger the Lambda function we have just created.\n",
    "\n",
    "Using AWS Console, navigate to **Amazon API Gateway** and then click on **Get started**.\n",
    "\n",
    "On the next page, make sure that **New API** is selected and give the new api a name, for example, `sentiment_analysis_api`. Then, click on **Create API**.\n",
    "\n",
    "Now we have created an API, however it doesn't currently do anything. What we want it to do is to trigger the Lambda function that we created earlier.\n",
    "\n",
    "Select the **Actions** dropdown menu and click **Create Method**. A new blank method will be created, select its dropdown menu and select **POST**, then click on the check mark beside it.\n",
    "\n",
    "For the integration point, make sure that **Lambda Function** is selected and click on the **Use Lambda Proxy integration**. This option makes sure that the data that is sent to the API is then sent directly to the Lambda function with no processing. It also means that the return value must be a proper response object as it will also not be processed by API Gateway.\n",
    "\n",
    "Type the name of the Lambda function you created earlier into the **Lambda Function** text entry box and then click on **Save**. Click on **OK** in the pop-up box that then appears, giving permission to API Gateway to invoke the Lambda function you created.\n",
    "\n",
    "The last step in creating the API Gateway is to select the **Actions** dropdown and click on **Deploy API**. You will need to create a new Deployment stage and name it anything you like, for example `prod`.\n",
    "\n",
    "You have now successfully set up a public API to access your SageMaker model. Make sure to copy or write down the URL provided to invoke your newly created public API as this will be needed in the next step. This URL can be found at the top of the page, highlighted in blue next to the text **Invoke URL**."
   ]
  },
  {
   "cell_type": "markdown",
   "metadata": {},
   "source": [
    "## Step 4: Deploying our web app\n",
    "\n",
    "Now that we have a publicly available API, we can start using it in a web app. For our purposes, we have provided a simple static html file which can make use of the public api you created earlier.\n",
    "\n",
    "In the `website` folder there should be a file called `index.html`. Download the file to your computer and open that file up in a text editor of your choice. There should be a line which contains **\\*\\*REPLACE WITH PUBLIC API URL\\*\\***. Replace this string with the url that you wrote down in the last step and then save the file.\n",
    "\n",
    "Now, if you open `index.html` on your local computer, your browser will behave as a local web server and you can use the provided site to interact with your SageMaker model.\n",
    "\n",
    "If you'd like to go further, you can host this html file anywhere you'd like, for example using github or hosting a static site on Amazon's S3. Once you have done this you can share the link with anyone you'd like and have them play with it too!\n",
    "\n",
    "> **Important Note** In order for the web app to communicate with the SageMaker endpoint, the endpoint has to actually be deployed and running. This means that you are paying for it. Make sure that the endpoint is running when you want to use the web app but that you shut it down when you don't need it, otherwise you will end up with a surprisingly large AWS bill.\n",
    "\n",
    "**TODO:** Make sure that you include the edited `index.html` file in your project submission."
   ]
  },
  {
   "cell_type": "markdown",
   "metadata": {},
   "source": [
    "Now that your web app is working, trying playing around with it and see how well it works.\n",
    "\n",
    "**Question**: Give an example of a review that you entered into your web app. What was the predicted sentiment of your example review?"
   ]
  },
  {
   "cell_type": "markdown",
   "metadata": {},
   "source": [
    "**Answer:**\n",
    "- Input 1: *'Very good movie! Nice acting, cool story. Waiting for a sequel.'*\n",
    "- Output: Positive\n",
    "<br><br>\n",
    "- Input 2: *'Could have been better. not as good as prequel'*\n",
    "- Output: Negative"
   ]
  },
  {
   "cell_type": "markdown",
   "metadata": {},
   "source": [
    "### Delete the endpoint\n",
    "\n",
    "Remember to always shut down your endpoint if you are no longer using it. You are charged for the length of time that the endpoint is running so if you forget and leave it on you could end up with an unexpectedly large bill."
   ]
  },
  {
   "cell_type": "code",
   "execution_count": 50,
   "metadata": {},
   "outputs": [],
   "source": [
    "predictor.delete_endpoint()"
   ]
  },
  {
   "cell_type": "code",
   "execution_count": null,
   "metadata": {},
   "outputs": [],
   "source": []
  }
 ],
 "metadata": {
  "kernelspec": {
   "display_name": "conda_pytorch_p36",
   "language": "python",
   "name": "conda_pytorch_p36"
  },
  "language_info": {
   "codemirror_mode": {
    "name": "ipython",
    "version": 3
   },
   "file_extension": ".py",
   "mimetype": "text/x-python",
   "name": "python",
   "nbconvert_exporter": "python",
   "pygments_lexer": "ipython3",
   "version": "3.6.5"
  }
 },
 "nbformat": 4,
 "nbformat_minor": 2
}
